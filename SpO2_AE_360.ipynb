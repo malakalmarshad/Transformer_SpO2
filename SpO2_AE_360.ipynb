{
 "cells": [
  {
   "cell_type": "code",
   "execution_count": 1,
   "id": "c2833146",
   "metadata": {},
   "outputs": [],
   "source": [
    "\n",
    "import numpy as np\n",
    "from keras.models import Sequential\n",
    "from keras.layers import LSTM, Input, Dropout\n",
    "from keras.layers import Dense\n",
    "from keras.layers import RepeatVector\n",
    "from keras.layers import TimeDistributed\n",
    "import pandas as pd\n",
    "from matplotlib import pyplot as plt\n",
    "from sklearn.preprocessing import MinMaxScaler, StandardScaler\n",
    "from keras.models import Model\n",
    "import seaborn as sns\n",
    "from tensorflow import keras\n",
    "import numpy as np\n",
    "import matplotlib.pyplot as plt\n",
    "import pandas as pd\n",
    "import matplotlib.pyplot as plt\n",
    "import json\n",
    "import numpy as np\n",
    "from tensorflow import keras\n",
    "from tensorflow.keras import layers\n",
    "import tensorflow as tf\n",
    "from sklearn import preprocessing, model_selection\n",
    "import random\n",
    "import datetime\n",
    "import tensorflow_addons as tfa"
   ]
  },
  {
   "cell_type": "markdown",
   "id": "f2ac1370",
   "metadata": {},
   "source": [
    "Positional Embedding added"
   ]
  },
  {
   "cell_type": "code",
   "execution_count": 2,
   "id": "1621f167",
   "metadata": {},
   "outputs": [],
   "source": [
    "from sklearn.decomposition import PCA  # to apply PCA"
   ]
  },
  {
   "cell_type": "code",
   "execution_count": 3,
   "id": "283e8d09",
   "metadata": {},
   "outputs": [],
   "source": [
    "#Registering start time of the experiment\n",
    "#logging date and time\n",
    "from datetime import datetime\n",
    "now = datetime.now()\n",
    "current_time = now.strftime(\"%Y-%m-%d %H:%M:%S\")"
   ]
  },
  {
   "cell_type": "code",
   "execution_count": 4,
   "id": "512ea4cb",
   "metadata": {},
   "outputs": [],
   "source": [
    "current_time=current_time.replace(\" \", \"_\")"
   ]
  },
  {
   "cell_type": "code",
   "execution_count": 5,
   "id": "4e3e3557",
   "metadata": {},
   "outputs": [],
   "source": [
    "current_time=current_time.replace(\":\", \"_\")"
   ]
  },
  {
   "cell_type": "code",
   "execution_count": 6,
   "id": "90e8c598",
   "metadata": {},
   "outputs": [
    {
     "data": {
      "text/plain": [
       "'2023-07-13_03_16_06'"
      ]
     },
     "execution_count": 6,
     "metadata": {},
     "output_type": "execute_result"
    }
   ],
   "source": [
    "current_time"
   ]
  },
  {
   "cell_type": "code",
   "execution_count": 7,
   "id": "b888b2f3",
   "metadata": {},
   "outputs": [],
   "source": [
    "from keras.preprocessing.sequence import TimeseriesGenerator"
   ]
  },
  {
   "cell_type": "code",
   "execution_count": 8,
   "id": "4d2c3001",
   "metadata": {},
   "outputs": [],
   "source": [
    "from keras.utils import timeseries_dataset_from_array"
   ]
  },
  {
   "cell_type": "code",
   "execution_count": 9,
   "id": "891a8a67",
   "metadata": {},
   "outputs": [],
   "source": [
    "import random as python_random\n",
    "\n",
    "# The below is necessary for starting Numpy generated random numbers\n",
    "# in a well-defined initial state.\n",
    "np.random.seed(42)\n",
    "\n",
    "# The below is necessary for starting core Python generated random numbers\n",
    "# in a well-defined state.\n",
    "python_random.seed(42)\n",
    "\n",
    "# The below set_seed() will make random number generation\n",
    "# in the TensorFlow backend have a well-defined initial state.\n",
    "# For further details, see:\n",
    "# https://www.tensorflow.org/api_docs/python/tf/random/set_seed\n",
    "tf.random.set_seed(42)"
   ]
  },
  {
   "cell_type": "code",
   "execution_count": 10,
   "id": "bffe5996",
   "metadata": {},
   "outputs": [
    {
     "name": "stdout",
     "output_type": "stream",
     "text": [
      "[name: \"/device:CPU:0\"\n",
      "device_type: \"CPU\"\n",
      "memory_limit: 268435456\n",
      "locality {\n",
      "}\n",
      "incarnation: 9437292456730278653\n",
      "xla_global_id: -1\n",
      ", name: \"/device:GPU:0\"\n",
      "device_type: \"GPU\"\n",
      "memory_limit: 5711593472\n",
      "locality {\n",
      "  bus_id: 1\n",
      "  links {\n",
      "  }\n",
      "}\n",
      "incarnation: 12462354860351493156\n",
      "physical_device_desc: \"device: 0, name: NVIDIA GeForce RTX 3080 Laptop GPU, pci bus id: 0000:01:00.0, compute capability: 8.6\"\n",
      "xla_global_id: 416903419\n",
      "]\n"
     ]
    }
   ],
   "source": [
    "#list all CPUs and GPUs\n",
    "from tensorflow.python.client import device_lib\n",
    "\n",
    "print(device_lib.list_local_devices())"
   ]
  },
  {
   "cell_type": "code",
   "execution_count": 11,
   "id": "4727884f",
   "metadata": {},
   "outputs": [
    {
     "data": {
      "text/html": [
       "<div>\n",
       "<style scoped>\n",
       "    .dataframe tbody tr th:only-of-type {\n",
       "        vertical-align: middle;\n",
       "    }\n",
       "\n",
       "    .dataframe tbody tr th {\n",
       "        vertical-align: top;\n",
       "    }\n",
       "\n",
       "    .dataframe thead th {\n",
       "        text-align: right;\n",
       "    }\n",
       "</style>\n",
       "<table border=\"1\" class=\"dataframe\">\n",
       "  <thead>\n",
       "    <tr style=\"text-align: right;\">\n",
       "      <th></th>\n",
       "      <th>patient</th>\n",
       "      <th>timestamp_datetime</th>\n",
       "      <th>SpO2(%)</th>\n",
       "      <th>signal_ecg_ii</th>\n",
       "      <th>event</th>\n",
       "      <th>anomaly</th>\n",
       "    </tr>\n",
       "  </thead>\n",
       "  <tbody>\n",
       "    <tr>\n",
       "      <th>0</th>\n",
       "      <td>1</td>\n",
       "      <td>2019-07-29 21:00:36</td>\n",
       "      <td>NaN</td>\n",
       "      <td>[122, 121, 121, 120, 120, 122, 123, 124, 125, ...</td>\n",
       "      <td>NONE</td>\n",
       "      <td>False</td>\n",
       "    </tr>\n",
       "    <tr>\n",
       "      <th>1</th>\n",
       "      <td>1</td>\n",
       "      <td>2019-07-29 21:00:37</td>\n",
       "      <td>NaN</td>\n",
       "      <td>[123, 124, 123, 123, 123, 122, 123, 123, 123, ...</td>\n",
       "      <td>NONE</td>\n",
       "      <td>False</td>\n",
       "    </tr>\n",
       "    <tr>\n",
       "      <th>2</th>\n",
       "      <td>1</td>\n",
       "      <td>2019-07-29 21:00:38</td>\n",
       "      <td>NaN</td>\n",
       "      <td>[123, 124, 124, 124, 124, 124, 124, 124, 124, ...</td>\n",
       "      <td>NONE</td>\n",
       "      <td>False</td>\n",
       "    </tr>\n",
       "    <tr>\n",
       "      <th>3</th>\n",
       "      <td>1</td>\n",
       "      <td>2019-07-29 21:00:39</td>\n",
       "      <td>NaN</td>\n",
       "      <td>[126, 126, 126, 126, 126, 125, 126, 126, 126, ...</td>\n",
       "      <td>NONE</td>\n",
       "      <td>False</td>\n",
       "    </tr>\n",
       "    <tr>\n",
       "      <th>4</th>\n",
       "      <td>1</td>\n",
       "      <td>2019-07-29 21:00:40</td>\n",
       "      <td>NaN</td>\n",
       "      <td>[128, 127, 126, 125, 126, 127, 126, 125, 125, ...</td>\n",
       "      <td>NONE</td>\n",
       "      <td>False</td>\n",
       "    </tr>\n",
       "  </tbody>\n",
       "</table>\n",
       "</div>"
      ],
      "text/plain": [
       "  patient  timestamp_datetime  SpO2(%)  \\\n",
       "0       1 2019-07-29 21:00:36      NaN   \n",
       "1       1 2019-07-29 21:00:37      NaN   \n",
       "2       1 2019-07-29 21:00:38      NaN   \n",
       "3       1 2019-07-29 21:00:39      NaN   \n",
       "4       1 2019-07-29 21:00:40      NaN   \n",
       "\n",
       "                                       signal_ecg_ii event  anomaly  \n",
       "0  [122, 121, 121, 120, 120, 122, 123, 124, 125, ...  NONE    False  \n",
       "1  [123, 124, 123, 123, 123, 122, 123, 123, 123, ...  NONE    False  \n",
       "2  [123, 124, 124, 124, 124, 124, 124, 124, 124, ...  NONE    False  \n",
       "3  [126, 126, 126, 126, 126, 125, 126, 126, 126, ...  NONE    False  \n",
       "4  [128, 127, 126, 125, 126, 127, 126, 125, 125, ...  NONE    False  "
      ]
     },
     "metadata": {},
     "output_type": "display_data"
    },
    {
     "data": {
      "text/plain": [
       "patient                       object\n",
       "timestamp_datetime    datetime64[ns]\n",
       "SpO2(%)                      float64\n",
       "signal_ecg_ii                 object\n",
       "event                         object\n",
       "anomaly                      boolean\n",
       "dtype: object"
      ]
     },
     "metadata": {},
     "output_type": "display_data"
    }
   ],
   "source": [
    "import pickle\n",
    "\n",
    "#path = \"C:\\\\Users\\\\MalakAlmarshad\\\\Desktop\\\\premirly dataset for experiment\\\\ICUecgtiny.pkl\"#for part of the dataset\n",
    "\n",
    "path = \"C:\\\\Users\\\\MalakAlmarshad\\\\Desktop\\\\premirly dataset for experiment\\\\ICUecgAll.pkl\"\n",
    "\n",
    "\n",
    "\n",
    "# Loading the dataset\n",
    "with open(path, 'rb') as file:\n",
    "    dataset = pickle.load(file)\n",
    "    \n",
    "display(dataset.head())\n",
    "\n",
    "display(dataset.dtypes)"
   ]
  },
  {
   "cell_type": "code",
   "execution_count": 12,
   "id": "e65ab991",
   "metadata": {},
   "outputs": [],
   "source": [
    "dataframe = dataset\n",
    "df = dataframe[['SpO2(%)', 'anomaly']]\n"
   ]
  },
  {
   "cell_type": "code",
   "execution_count": 13,
   "id": "00b2e1cc",
   "metadata": {},
   "outputs": [
    {
     "data": {
      "text/plain": [
       "<AxesSubplot: xlabel='SpO2(%)', ylabel='anomaly'>"
      ]
     },
     "execution_count": 13,
     "metadata": {},
     "output_type": "execute_result"
    },
    {
     "data": {
      "image/png": "[encoded data removed]",
      "text/plain": [
       "<Figure size 640x480 with 1 Axes>"
      ]
     },
     "metadata": {},
     "output_type": "display_data"
    }
   ],
   "source": [
    "\n",
    "sns.lineplot(x=df['SpO2(%)'], y=df['anomaly'])"
   ]
  },
  {
   "cell_type": "code",
   "execution_count": 14,
   "id": "c17f3368",
   "metadata": {},
   "outputs": [
    {
     "data": {
      "text/html": [
       "<div>\n",
       "<style scoped>\n",
       "    .dataframe tbody tr th:only-of-type {\n",
       "        vertical-align: middle;\n",
       "    }\n",
       "\n",
       "    .dataframe tbody tr th {\n",
       "        vertical-align: top;\n",
       "    }\n",
       "\n",
       "    .dataframe thead th {\n",
       "        text-align: right;\n",
       "    }\n",
       "</style>\n",
       "<table border=\"1\" class=\"dataframe\">\n",
       "  <thead>\n",
       "    <tr style=\"text-align: right;\">\n",
       "      <th></th>\n",
       "      <th>SpO2(%)</th>\n",
       "      <th>anomaly</th>\n",
       "    </tr>\n",
       "  </thead>\n",
       "  <tbody>\n",
       "    <tr>\n",
       "      <th>0</th>\n",
       "      <td>NaN</td>\n",
       "      <td>False</td>\n",
       "    </tr>\n",
       "    <tr>\n",
       "      <th>1</th>\n",
       "      <td>NaN</td>\n",
       "      <td>False</td>\n",
       "    </tr>\n",
       "    <tr>\n",
       "      <th>2</th>\n",
       "      <td>NaN</td>\n",
       "      <td>False</td>\n",
       "    </tr>\n",
       "    <tr>\n",
       "      <th>3</th>\n",
       "      <td>NaN</td>\n",
       "      <td>False</td>\n",
       "    </tr>\n",
       "    <tr>\n",
       "      <th>4</th>\n",
       "      <td>NaN</td>\n",
       "      <td>False</td>\n",
       "    </tr>\n",
       "    <tr>\n",
       "      <th>...</th>\n",
       "      <td>...</td>\n",
       "      <td>...</td>\n",
       "    </tr>\n",
       "    <tr>\n",
       "      <th>961352</th>\n",
       "      <td>95.0</td>\n",
       "      <td>False</td>\n",
       "    </tr>\n",
       "    <tr>\n",
       "      <th>961353</th>\n",
       "      <td>95.0</td>\n",
       "      <td>False</td>\n",
       "    </tr>\n",
       "    <tr>\n",
       "      <th>961354</th>\n",
       "      <td>95.0</td>\n",
       "      <td>False</td>\n",
       "    </tr>\n",
       "    <tr>\n",
       "      <th>961355</th>\n",
       "      <td>95.0</td>\n",
       "      <td>False</td>\n",
       "    </tr>\n",
       "    <tr>\n",
       "      <th>961356</th>\n",
       "      <td>95.0</td>\n",
       "      <td>False</td>\n",
       "    </tr>\n",
       "  </tbody>\n",
       "</table>\n",
       "<p>961357 rows × 2 columns</p>\n",
       "</div>"
      ],
      "text/plain": [
       "        SpO2(%)  anomaly\n",
       "0           NaN    False\n",
       "1           NaN    False\n",
       "2           NaN    False\n",
       "3           NaN    False\n",
       "4           NaN    False\n",
       "...         ...      ...\n",
       "961352     95.0    False\n",
       "961353     95.0    False\n",
       "961354     95.0    False\n",
       "961355     95.0    False\n",
       "961356     95.0    False\n",
       "\n",
       "[961357 rows x 2 columns]"
      ]
     },
     "execution_count": 14,
     "metadata": {},
     "output_type": "execute_result"
    }
   ],
   "source": [
    "df"
   ]
  },
  {
   "cell_type": "code",
   "execution_count": 15,
   "id": "8701fd38",
   "metadata": {},
   "outputs": [],
   "source": [
    "df=df.dropna()"
   ]
  },
  {
   "cell_type": "code",
   "execution_count": 16,
   "id": "8cde2ae6",
   "metadata": {},
   "outputs": [
    {
     "data": {
      "text/html": [
       "<div>\n",
       "<style scoped>\n",
       "    .dataframe tbody tr th:only-of-type {\n",
       "        vertical-align: middle;\n",
       "    }\n",
       "\n",
       "    .dataframe tbody tr th {\n",
       "        vertical-align: top;\n",
       "    }\n",
       "\n",
       "    .dataframe thead th {\n",
       "        text-align: right;\n",
       "    }\n",
       "</style>\n",
       "<table border=\"1\" class=\"dataframe\">\n",
       "  <thead>\n",
       "    <tr style=\"text-align: right;\">\n",
       "      <th></th>\n",
       "      <th>SpO2(%)</th>\n",
       "      <th>anomaly</th>\n",
       "    </tr>\n",
       "  </thead>\n",
       "  <tbody>\n",
       "    <tr>\n",
       "      <th>2075</th>\n",
       "      <td>82.0</td>\n",
       "      <td>False</td>\n",
       "    </tr>\n",
       "    <tr>\n",
       "      <th>2076</th>\n",
       "      <td>82.0</td>\n",
       "      <td>False</td>\n",
       "    </tr>\n",
       "    <tr>\n",
       "      <th>2077</th>\n",
       "      <td>82.0</td>\n",
       "      <td>False</td>\n",
       "    </tr>\n",
       "    <tr>\n",
       "      <th>2078</th>\n",
       "      <td>82.0</td>\n",
       "      <td>False</td>\n",
       "    </tr>\n",
       "    <tr>\n",
       "      <th>2079</th>\n",
       "      <td>82.0</td>\n",
       "      <td>False</td>\n",
       "    </tr>\n",
       "    <tr>\n",
       "      <th>...</th>\n",
       "      <td>...</td>\n",
       "      <td>...</td>\n",
       "    </tr>\n",
       "    <tr>\n",
       "      <th>961352</th>\n",
       "      <td>95.0</td>\n",
       "      <td>False</td>\n",
       "    </tr>\n",
       "    <tr>\n",
       "      <th>961353</th>\n",
       "      <td>95.0</td>\n",
       "      <td>False</td>\n",
       "    </tr>\n",
       "    <tr>\n",
       "      <th>961354</th>\n",
       "      <td>95.0</td>\n",
       "      <td>False</td>\n",
       "    </tr>\n",
       "    <tr>\n",
       "      <th>961355</th>\n",
       "      <td>95.0</td>\n",
       "      <td>False</td>\n",
       "    </tr>\n",
       "    <tr>\n",
       "      <th>961356</th>\n",
       "      <td>95.0</td>\n",
       "      <td>False</td>\n",
       "    </tr>\n",
       "  </tbody>\n",
       "</table>\n",
       "<p>828777 rows × 2 columns</p>\n",
       "</div>"
      ],
      "text/plain": [
       "        SpO2(%)  anomaly\n",
       "2075       82.0    False\n",
       "2076       82.0    False\n",
       "2077       82.0    False\n",
       "2078       82.0    False\n",
       "2079       82.0    False\n",
       "...         ...      ...\n",
       "961352     95.0    False\n",
       "961353     95.0    False\n",
       "961354     95.0    False\n",
       "961355     95.0    False\n",
       "961356     95.0    False\n",
       "\n",
       "[828777 rows x 2 columns]"
      ]
     },
     "execution_count": 16,
     "metadata": {},
     "output_type": "execute_result"
    }
   ],
   "source": [
    "df"
   ]
  },
  {
   "cell_type": "code",
   "execution_count": 17,
   "id": "bc4e60f8",
   "metadata": {},
   "outputs": [
    {
     "name": "stderr",
     "output_type": "stream",
     "text": [
      "C:\\Users\\MalakAlmarshad\\AppData\\Local\\Temp\\ipykernel_22128\\2850543328.py:6: SettingWithCopyWarning: \n",
      "A value is trying to be set on a copy of a slice from a DataFrame.\n",
      "Try using .loc[row_indexer,col_indexer] = value instead\n",
      "\n",
      "See the caveats in the documentation: https://pandas.pydata.org/pandas-docs/stable/user_guide/indexing.html#returning-a-view-versus-a-copy\n",
      "  df['SpO2(%)']=dataset\n"
     ]
    }
   ],
   "source": [
    "x = df[['SpO2(%)']]\n",
    "min_max_scaler = preprocessing.MinMaxScaler()\n",
    "x_scaled = min_max_scaler.fit_transform(x)\n",
    "dataset = x_scaled\n",
    "\n",
    "df['SpO2(%)']=dataset"
   ]
  },
  {
   "cell_type": "code",
   "execution_count": 18,
   "id": "7c4154cc",
   "metadata": {},
   "outputs": [
    {
     "data": {
      "text/html": [
       "<div>\n",
       "<style scoped>\n",
       "    .dataframe tbody tr th:only-of-type {\n",
       "        vertical-align: middle;\n",
       "    }\n",
       "\n",
       "    .dataframe tbody tr th {\n",
       "        vertical-align: top;\n",
       "    }\n",
       "\n",
       "    .dataframe thead th {\n",
       "        text-align: right;\n",
       "    }\n",
       "</style>\n",
       "<table border=\"1\" class=\"dataframe\">\n",
       "  <thead>\n",
       "    <tr style=\"text-align: right;\">\n",
       "      <th></th>\n",
       "      <th>SpO2(%)</th>\n",
       "      <th>anomaly</th>\n",
       "    </tr>\n",
       "  </thead>\n",
       "  <tbody>\n",
       "    <tr>\n",
       "      <th>2075</th>\n",
       "      <td>0.550</td>\n",
       "      <td>False</td>\n",
       "    </tr>\n",
       "    <tr>\n",
       "      <th>2076</th>\n",
       "      <td>0.550</td>\n",
       "      <td>False</td>\n",
       "    </tr>\n",
       "    <tr>\n",
       "      <th>2077</th>\n",
       "      <td>0.550</td>\n",
       "      <td>False</td>\n",
       "    </tr>\n",
       "    <tr>\n",
       "      <th>2078</th>\n",
       "      <td>0.550</td>\n",
       "      <td>False</td>\n",
       "    </tr>\n",
       "    <tr>\n",
       "      <th>2079</th>\n",
       "      <td>0.550</td>\n",
       "      <td>False</td>\n",
       "    </tr>\n",
       "    <tr>\n",
       "      <th>...</th>\n",
       "      <td>...</td>\n",
       "      <td>...</td>\n",
       "    </tr>\n",
       "    <tr>\n",
       "      <th>961352</th>\n",
       "      <td>0.875</td>\n",
       "      <td>False</td>\n",
       "    </tr>\n",
       "    <tr>\n",
       "      <th>961353</th>\n",
       "      <td>0.875</td>\n",
       "      <td>False</td>\n",
       "    </tr>\n",
       "    <tr>\n",
       "      <th>961354</th>\n",
       "      <td>0.875</td>\n",
       "      <td>False</td>\n",
       "    </tr>\n",
       "    <tr>\n",
       "      <th>961355</th>\n",
       "      <td>0.875</td>\n",
       "      <td>False</td>\n",
       "    </tr>\n",
       "    <tr>\n",
       "      <th>961356</th>\n",
       "      <td>0.875</td>\n",
       "      <td>False</td>\n",
       "    </tr>\n",
       "  </tbody>\n",
       "</table>\n",
       "<p>828777 rows × 2 columns</p>\n",
       "</div>"
      ],
      "text/plain": [
       "        SpO2(%)  anomaly\n",
       "2075      0.550    False\n",
       "2076      0.550    False\n",
       "2077      0.550    False\n",
       "2078      0.550    False\n",
       "2079      0.550    False\n",
       "...         ...      ...\n",
       "961352    0.875    False\n",
       "961353    0.875    False\n",
       "961354    0.875    False\n",
       "961355    0.875    False\n",
       "961356    0.875    False\n",
       "\n",
       "[828777 rows x 2 columns]"
      ]
     },
     "execution_count": 18,
     "metadata": {},
     "output_type": "execute_result"
    }
   ],
   "source": [
    "df"
   ]
  },
  {
   "cell_type": "markdown",
   "id": "efa320eb",
   "metadata": {},
   "source": [
    "Create sequences"
   ]
  },
  {
   "cell_type": "code",
   "execution_count": 19,
   "id": "11f6aaaf",
   "metadata": {},
   "outputs": [],
   "source": [
    "\n",
    "sample_length = 360 #sequance length , AIOSA=180 , per sec\n",
    "batch_size =64\n",
    "# 1 beacause it's univariate\n",
    "n_features = 1\n",
    "\n",
    "sequence_length=sample_length\n",
    "latent_dim = 2048\n",
    "num_heads = 8#8\n",
    "vocab_size = 15000#15000 Input\n",
    "embed_dim = 256#256#less than vocab output\n"
   ]
  },
  {
   "cell_type": "code",
   "execution_count": 20,
   "id": "4b2189ce",
   "metadata": {},
   "outputs": [],
   "source": [
    "#Defining features (x) and labels (y)\n",
    "targets = df[\"anomaly\"]\n",
    "input_data = df[\"SpO2(%)\"]"
   ]
  },
  {
   "cell_type": "code",
   "execution_count": 21,
   "id": "7eb59df0",
   "metadata": {},
   "outputs": [],
   "source": [
    "\n",
    "def create_sequences(values, time_steps=sample_length):\n",
    "    output = []\n",
    "    for i in range(len(values) - time_steps + 1):\n",
    "        output.append(values[i : (i + time_steps)])\n",
    "    return np.stack(output)"
   ]
  },
  {
   "cell_type": "code",
   "execution_count": 22,
   "id": "99a5673c",
   "metadata": {},
   "outputs": [],
   "source": [
    "# df_training_value[10:]"
   ]
  },
  {
   "cell_type": "code",
   "execution_count": 23,
   "id": "5d487e39",
   "metadata": {},
   "outputs": [
    {
     "data": {
      "text/plain": [
       "2075      0.550\n",
       "2076      0.550\n",
       "2077      0.550\n",
       "2078      0.550\n",
       "2079      0.550\n",
       "          ...  \n",
       "961352    0.875\n",
       "961353    0.875\n",
       "961354    0.875\n",
       "961355    0.875\n",
       "961356    0.875\n",
       "Name: SpO2(%), Length: 828777, dtype: float64"
      ]
     },
     "execution_count": 23,
     "metadata": {},
     "output_type": "execute_result"
    }
   ],
   "source": [
    "input_data"
   ]
  },
  {
   "cell_type": "code",
   "execution_count": 24,
   "id": "65135c68",
   "metadata": {},
   "outputs": [
    {
     "data": {
      "text/plain": [
       "2075      False\n",
       "2076      False\n",
       "2077      False\n",
       "2078      False\n",
       "2079      False\n",
       "          ...  \n",
       "961352    False\n",
       "961353    False\n",
       "961354    False\n",
       "961355    False\n",
       "961356    False\n",
       "Name: anomaly, Length: 828777, dtype: boolean"
      ]
     },
     "execution_count": 24,
     "metadata": {},
     "output_type": "execute_result"
    }
   ],
   "source": [
    "targets"
   ]
  },
  {
   "cell_type": "code",
   "execution_count": 25,
   "id": "16ec9cdd",
   "metadata": {},
   "outputs": [],
   "source": [
    "#Encode categorical features as a one-hot numeric array.\n",
    "le = preprocessing.LabelEncoder()  # Generates a look-up table\n",
    "le.fit(targets)\n",
    "targets = le.transform(targets)"
   ]
  },
  {
   "cell_type": "code",
   "execution_count": 26,
   "id": "b8e974ac",
   "metadata": {},
   "outputs": [
    {
     "data": {
      "text/plain": [
       "array([0, 0, 0, ..., 0, 0, 0])"
      ]
     },
     "execution_count": 26,
     "metadata": {},
     "output_type": "execute_result"
    }
   ],
   "source": [
    "targets"
   ]
  },
  {
   "cell_type": "code",
   "execution_count": 27,
   "id": "30f14fbd",
   "metadata": {},
   "outputs": [],
   "source": [
    "d_model=1024"
   ]
  },
  {
   "cell_type": "code",
   "execution_count": 28,
   "id": "553c1936",
   "metadata": {},
   "outputs": [
    {
     "data": {
      "text/plain": [
       "828777"
      ]
     },
     "execution_count": 28,
     "metadata": {},
     "output_type": "execute_result"
    }
   ],
   "source": [
    "len(targets)"
   ]
  },
  {
   "cell_type": "code",
   "execution_count": 29,
   "id": "dc217c19",
   "metadata": {},
   "outputs": [],
   "source": [
    "name_classes = le.classes_"
   ]
  },
  {
   "cell_type": "code",
   "execution_count": 30,
   "id": "e9426019",
   "metadata": {},
   "outputs": [],
   "source": [
    "##count the names andbnumber of classes\n",
    "n_classes= len(name_classes)"
   ]
  },
  {
   "cell_type": "code",
   "execution_count": 31,
   "id": "e8b3c19f",
   "metadata": {},
   "outputs": [
    {
     "data": {
      "text/plain": [
       "2"
      ]
     },
     "execution_count": 31,
     "metadata": {},
     "output_type": "execute_result"
    }
   ],
   "source": [
    "n_classes"
   ]
  },
  {
   "cell_type": "code",
   "execution_count": 32,
   "id": "4b265978",
   "metadata": {},
   "outputs": [
    {
     "data": {
      "text/plain": [
       "2075    0.550\n",
       "2076    0.550\n",
       "2077    0.550\n",
       "2078    0.550\n",
       "2079    0.550\n",
       "2080    0.550\n",
       "2081    0.550\n",
       "2082    0.550\n",
       "2083    0.550\n",
       "2084    0.550\n",
       "2085    0.675\n",
       "Name: SpO2(%), dtype: float64"
      ]
     },
     "execution_count": 32,
     "metadata": {},
     "output_type": "execute_result"
    }
   ],
   "source": [
    "input_data.head(11)"
   ]
  },
  {
   "cell_type": "code",
   "execution_count": 33,
   "id": "cd18c83d",
   "metadata": {},
   "outputs": [
    {
     "data": {
      "text/plain": [
       "array([0, 0, 0, ..., 0, 0, 0])"
      ]
     },
     "execution_count": 33,
     "metadata": {},
     "output_type": "execute_result"
    }
   ],
   "source": [
    "targets"
   ]
  },
  {
   "cell_type": "code",
   "execution_count": 34,
   "id": "7d76d23a",
   "metadata": {},
   "outputs": [
    {
     "name": "stderr",
     "output_type": "stream",
     "text": [
      "C:\\Users\\MalakAlmarshad\\AppData\\Local\\Temp\\ipykernel_22128\\948889072.py:4: FutureWarning: The behavior of `series[i:j]` with an integer-dtype index is deprecated. In a future version, this will be treated as *label-based* indexing, consistent with e.g. `series[i]` lookups. To retain the old behavior, use `series.iloc[i:j]`. To get the future behavior, use `series.loc[i:j]`.\n",
      "  output.append(values[i : (i + time_steps)])\n"
     ]
    }
   ],
   "source": [
    "x_seq=create_sequences(input_data)"
   ]
  },
  {
   "cell_type": "code",
   "execution_count": 35,
   "id": "dd4cb8d1",
   "metadata": {},
   "outputs": [],
   "source": [
    "y_seq=create_sequences(targets)"
   ]
  },
  {
   "cell_type": "code",
   "execution_count": 36,
   "id": "f9ae82ae",
   "metadata": {},
   "outputs": [
    {
     "data": {
      "text/plain": [
       "array([[0, 0, 0, ..., 0, 0, 0],\n",
       "       [0, 0, 0, ..., 0, 0, 0],\n",
       "       [0, 0, 0, ..., 0, 0, 0],\n",
       "       ...,\n",
       "       [0, 0, 0, ..., 0, 0, 0],\n",
       "       [0, 0, 0, ..., 0, 0, 0],\n",
       "       [0, 0, 0, ..., 0, 0, 0]])"
      ]
     },
     "execution_count": 36,
     "metadata": {},
     "output_type": "execute_result"
    }
   ],
   "source": [
    "y_seq"
   ]
  },
  {
   "cell_type": "code",
   "execution_count": 37,
   "id": "76cd6ba4",
   "metadata": {},
   "outputs": [
    {
     "data": {
      "text/plain": [
       "array([[0.55 , 0.55 , 0.55 , ..., 0.9  , 0.9  , 0.9  ],\n",
       "       [0.55 , 0.55 , 0.55 , ..., 0.9  , 0.9  , 0.9  ],\n",
       "       [0.55 , 0.55 , 0.55 , ..., 0.9  , 0.9  , 0.9  ],\n",
       "       ...,\n",
       "       [0.925, 0.925, 0.925, ..., 0.875, 0.875, 0.875],\n",
       "       [0.925, 0.925, 0.925, ..., 0.875, 0.875, 0.875],\n",
       "       [0.925, 0.925, 0.925, ..., 0.875, 0.875, 0.875]])"
      ]
     },
     "execution_count": 37,
     "metadata": {},
     "output_type": "execute_result"
    }
   ],
   "source": [
    "x_seq"
   ]
  },
  {
   "cell_type": "code",
   "execution_count": 38,
   "id": "d1f62d4f",
   "metadata": {},
   "outputs": [
    {
     "data": {
      "text/plain": [
       "(828418, 360)"
      ]
     },
     "execution_count": 38,
     "metadata": {},
     "output_type": "execute_result"
    }
   ],
   "source": [
    "y_seq.shape"
   ]
  },
  {
   "cell_type": "code",
   "execution_count": 39,
   "id": "bc81ac5e",
   "metadata": {},
   "outputs": [
    {
     "data": {
      "text/plain": [
       "(828418, 360)"
      ]
     },
     "execution_count": 39,
     "metadata": {},
     "output_type": "execute_result"
    }
   ],
   "source": [
    "x_seq.shape"
   ]
  },
  {
   "cell_type": "code",
   "execution_count": 40,
   "id": "ab0e8186",
   "metadata": {},
   "outputs": [],
   "source": [
    "# y_seq = y_seq.reshape((y_seq.shape[0], y_seq.shape[1], 1))\n",
    "x_seq = x_seq.reshape((x_seq.shape[0], x_seq.shape[1], 1))"
   ]
  },
  {
   "cell_type": "code",
   "execution_count": 41,
   "id": "6793d54d",
   "metadata": {},
   "outputs": [
    {
     "data": {
      "text/plain": [
       "(828418, 360, 1)"
      ]
     },
     "execution_count": 41,
     "metadata": {},
     "output_type": "execute_result"
    }
   ],
   "source": [
    "x_seq.shape"
   ]
  },
  {
   "cell_type": "code",
   "execution_count": 42,
   "id": "623aa727",
   "metadata": {},
   "outputs": [
    {
     "data": {
      "text/plain": [
       "(828418, 360)"
      ]
     },
     "execution_count": 42,
     "metadata": {},
     "output_type": "execute_result"
    }
   ],
   "source": [
    "y_seq.shape"
   ]
  },
  {
   "cell_type": "code",
   "execution_count": 43,
   "id": "4798f7c1",
   "metadata": {},
   "outputs": [
    {
     "data": {
      "text/plain": [
       "array([[0, 0, 0, ..., 0, 0, 0],\n",
       "       [0, 0, 0, ..., 0, 0, 0],\n",
       "       [0, 0, 0, ..., 0, 0, 0],\n",
       "       ...,\n",
       "       [0, 0, 0, ..., 0, 0, 0],\n",
       "       [0, 0, 0, ..., 0, 0, 0],\n",
       "       [0, 0, 0, ..., 0, 0, 0]])"
      ]
     },
     "execution_count": 43,
     "metadata": {},
     "output_type": "execute_result"
    }
   ],
   "source": [
    "y_seq"
   ]
  },
  {
   "cell_type": "code",
   "execution_count": 44,
   "id": "984c96b6",
   "metadata": {},
   "outputs": [
    {
     "data": {
      "text/plain": [
       "array([[[0.55 ],\n",
       "        [0.55 ],\n",
       "        [0.55 ],\n",
       "        ...,\n",
       "        [0.9  ],\n",
       "        [0.9  ],\n",
       "        [0.9  ]],\n",
       "\n",
       "       [[0.55 ],\n",
       "        [0.55 ],\n",
       "        [0.55 ],\n",
       "        ...,\n",
       "        [0.9  ],\n",
       "        [0.9  ],\n",
       "        [0.9  ]],\n",
       "\n",
       "       [[0.55 ],\n",
       "        [0.55 ],\n",
       "        [0.55 ],\n",
       "        ...,\n",
       "        [0.9  ],\n",
       "        [0.9  ],\n",
       "        [0.9  ]],\n",
       "\n",
       "       ...,\n",
       "\n",
       "       [[0.925],\n",
       "        [0.925],\n",
       "        [0.925],\n",
       "        ...,\n",
       "        [0.875],\n",
       "        [0.875],\n",
       "        [0.875]],\n",
       "\n",
       "       [[0.925],\n",
       "        [0.925],\n",
       "        [0.925],\n",
       "        ...,\n",
       "        [0.875],\n",
       "        [0.875],\n",
       "        [0.875]],\n",
       "\n",
       "       [[0.925],\n",
       "        [0.925],\n",
       "        [0.925],\n",
       "        ...,\n",
       "        [0.875],\n",
       "        [0.875],\n",
       "        [0.875]]])"
      ]
     },
     "execution_count": 44,
     "metadata": {},
     "output_type": "execute_result"
    }
   ],
   "source": [
    "x_seq"
   ]
  },
  {
   "cell_type": "code",
   "execution_count": 45,
   "id": "a6324ef3",
   "metadata": {},
   "outputs": [
    {
     "name": "stdout",
     "output_type": "stream",
     "text": [
      "[0 0 0 ... 0 0 0]\n"
     ]
    }
   ],
   "source": [
    "df1 = (y_seq != 0).any(1).astype(int)\n",
    "print (df1)"
   ]
  },
  {
   "cell_type": "code",
   "execution_count": 46,
   "id": "1d83bc08",
   "metadata": {},
   "outputs": [
    {
     "data": {
      "text/plain": [
       "(828418,)"
      ]
     },
     "execution_count": 46,
     "metadata": {},
     "output_type": "execute_result"
    }
   ],
   "source": [
    "df1.shape"
   ]
  },
  {
   "cell_type": "code",
   "execution_count": 47,
   "id": "37adf68a",
   "metadata": {},
   "outputs": [],
   "source": [
    "y_seq=df1"
   ]
  },
  {
   "cell_type": "code",
   "execution_count": 48,
   "id": "c273fe7f",
   "metadata": {},
   "outputs": [
    {
     "data": {
      "text/plain": [
       "array([0, 0, 0, ..., 0, 0, 0])"
      ]
     },
     "execution_count": 48,
     "metadata": {},
     "output_type": "execute_result"
    }
   ],
   "source": [
    "y_seq"
   ]
  },
  {
   "cell_type": "code",
   "execution_count": 49,
   "id": "a8b01172",
   "metadata": {},
   "outputs": [
    {
     "name": "stdout",
     "output_type": "stream",
     "text": [
      "{0: 0.5954506058535667, 1: 0.4045493941464333}\n"
     ]
    }
   ],
   "source": [
    "vals_dict = {}\n",
    "for i in y_seq:\n",
    "    if i in vals_dict.keys():\n",
    "        vals_dict[i] += 1\n",
    "    else:\n",
    "        vals_dict[i] = 1\n",
    "total = sum(vals_dict.values())\n",
    "\n",
    "# Formula used - Naive method where\n",
    "# weight = 1 - (no. of samples present / total no. of samples)\n",
    "# So more the samples, lower the weight\n",
    "\n",
    "weight_dict = {k: (1 - (v / total)) for k, v in vals_dict.items()}\n",
    "print(weight_dict)"
   ]
  },
  {
   "cell_type": "code",
   "execution_count": 50,
   "id": "11fac0cd",
   "metadata": {},
   "outputs": [],
   "source": [
    "x_train, x_test, y_train, y_test = model_selection.train_test_split(\n",
    "    x_seq, y_seq, test_size=0.2, #shuffle=True #random_state=42, shuffle=True\n",
    ")"
   ]
  },
  {
   "cell_type": "code",
   "execution_count": 51,
   "id": "c19844ca",
   "metadata": {},
   "outputs": [],
   "source": [
    "y_train = np.asarray(y_train).astype(np.float32).reshape(-1, 1)\n",
    "y_train = keras.utils.to_categorical(y_train)\n",
    "\n",
    "y_test = np.asarray(y_test).astype(np.float32).reshape(-1, 1)\n",
    "y_test = keras.utils.to_categorical(y_test)"
   ]
  },
  {
   "cell_type": "code",
   "execution_count": 52,
   "id": "b99e71ec",
   "metadata": {},
   "outputs": [],
   "source": [
    "def positional_encoding(length, depth):\n",
    "  depth = depth/2\n",
    "\n",
    "  positions = np.arange(length)[:, np.newaxis]     # (seq, 1)\n",
    "  depths = np.arange(depth)[np.newaxis, :]/depth   # (1, depth)\n",
    "\n",
    "  angle_rates = 1 / (10000**depths)         # (1, depth)\n",
    "  angle_rads = positions * angle_rates      # (pos, depth)\n",
    "\n",
    "  pos_encoding = np.concatenate(\n",
    "      [np.sin(angle_rads), np.cos(angle_rads)],\n",
    "      axis=-1) \n",
    "\n",
    "  return tf.cast(pos_encoding, dtype=tf.float32)"
   ]
  },
  {
   "cell_type": "code",
   "execution_count": 53,
   "id": "e93ac0b2",
   "metadata": {},
   "outputs": [],
   "source": [
    "class PositionalEmbedding(tf.keras.layers.Layer):\n",
    "  def __init__(self, vocab_size, d_model):\n",
    "    super().__init__()\n",
    "    self.d_model = d_model\n",
    "    self.embedding = tf.keras.layers.Embedding(vocab_size, d_model, mask_zero=True) \n",
    "    self.pos_encoding = positional_encoding(length=2048, depth=d_model)\n",
    "\n",
    "  def compute_mask(self, *args, **kwargs):\n",
    "    return self.embedding.compute_mask(*args, **kwargs)\n",
    "\n",
    "  def call(self, x):\n",
    "    length = tf.shape(x)[1]\n",
    "    x = self.embedding(x)\n",
    "    # This factor sets the relative scale of the embedding and positonal_encoding.\n",
    "    x *= tf.math.sqrt(tf.cast(self.d_model, tf.float32))\n",
    "    x = x + self.pos_encoding[tf.newaxis, :length, :]\n",
    "    return x"
   ]
  },
  {
   "cell_type": "code",
   "execution_count": 54,
   "id": "83af58b4",
   "metadata": {},
   "outputs": [],
   "source": [
    "def AutoEncoder(inputs):\n",
    "\n",
    "    \n",
    "    x= layers.Conv1D(filters=32, kernel_size=7, padding=\"same\", strides=2, activation=\"relu\")(inputs)\n",
    "    x= layers.Dropout(rate=0.2)(x)\n",
    "    x= layers.Conv1D(filters=16, kernel_size=7, padding=\"same\", strides=2, activation=\"relu\")(x)\n",
    "    x= layers.Conv1DTranspose(filters=16, kernel_size=7, padding=\"same\", strides=2, activation=\"relu\")(x)\n",
    "    x= layers.Dropout(rate=0.2)(x)\n",
    "    x= layers.Conv1DTranspose(filters=32, kernel_size=7, padding=\"same\", strides=2, activation=\"relu\")(x)\n",
    "    x= layers.Conv1DTranspose(filters=1, kernel_size=7, padding=\"same\")(x)\n",
    "    x= layers.Conv1D(filters=132, kernel_size=7, padding=\"same\", strides=2, activation=\"relu\")(inputs)\n",
    "    x= layers.Dropout(rate=0.1)(x)\n",
    "    x= layers.Conv1D(filters=64, kernel_size=7, padding=\"same\", strides=2, activation=\"relu\")(x)\n",
    "    x= layers.Conv1DTranspose(filters=1, kernel_size=7, padding=\"same\")(x)\n",
    "    x= layers.Conv1DTranspose(filters=16, kernel_size=7, padding=\"same\", strides=2, activation=\"relu\")(x)\n",
    "    x= layers.Dropout(rate=0.2)(x)\n",
    "    x= layers.Conv1DTranspose(filters=32, kernel_size=7, padding=\"same\", strides=2, activation=\"relu\")(x)\n",
    "    x= layers.Conv1DTranspose(filters=1, kernel_size=7, padding=\"same\")(x)\n",
    "    return (x)"
   ]
  },
  {
   "cell_type": "code",
   "execution_count": 55,
   "id": "40c7f41e",
   "metadata": {},
   "outputs": [],
   "source": [
    "def transformer_encoder(inputs, head_size, num_heads, ff_dim, dropout=0):\n",
    "    # Normalization and Attention\n",
    "    x = layers.LayerNormalization(epsilon=1e-6)(inputs)\n",
    "    x = keras.layers.MultiHeadAttention(\n",
    "        key_dim=head_size, num_heads=num_heads, dropout=dropout\n",
    "    )(x, x)\n",
    "    x = layers.Dropout(dropout)(x)\n",
    "    res = x + inputs\n",
    "\n",
    "    # Feed Forward Part\n",
    "    x = layers.LayerNormalization(epsilon=1e-6)(res)\n",
    "    x = layers.Conv1D(filters=ff_dim, kernel_size=1, activation=\"relu\")(x)\n",
    "    x = layers.Dropout(dropout)(x)\n",
    "    x = layers.Conv1D(filters=inputs.shape[-1], kernel_size=1)(x)\n",
    "    return x + res"
   ]
  },
  {
   "cell_type": "code",
   "execution_count": 56,
   "id": "13f04c59",
   "metadata": {},
   "outputs": [],
   "source": [
    "def build_model(\n",
    "    input_shape,\n",
    "    head_size,\n",
    "    num_heads,\n",
    "    ff_dim,\n",
    "    num_transformer_blocks,\n",
    "    mlp_units,\n",
    "    dropout=0,\n",
    "    mlp_dropout=0,\n",
    "):\n",
    "    inputs = keras.Input(shape=input_shape)\n",
    "    x = inputs\n",
    "    # AutoEncoder \n",
    "    x = AutoEncoder(inputs)\n",
    "    \n",
    "    for _ in range(num_transformer_blocks):\n",
    "        x = transformer_encoder(x, head_size, num_heads, ff_dim, dropout)\n",
    "\n",
    "    x = layers.GlobalAveragePooling1D(data_format=\"channels_first\")(x)\n",
    "    for dim in mlp_units:\n",
    "        x = layers.Dense(dim, activation=\"relu\")(x)\n",
    "        x = layers.Dropout(mlp_dropout)(x)\n",
    "    outputs = layers.Dense(n_classes, activation=\"softmax\")(x)\n",
    "    return keras.Model(inputs, outputs)"
   ]
  },
  {
   "cell_type": "code",
   "execution_count": 57,
   "id": "d49a6812",
   "metadata": {},
   "outputs": [
    {
     "data": {
      "text/plain": [
       "(662734, 2)"
      ]
     },
     "execution_count": 57,
     "metadata": {},
     "output_type": "execute_result"
    }
   ],
   "source": [
    "y_train.shape"
   ]
  },
  {
   "cell_type": "code",
   "execution_count": 58,
   "id": "2abd000b",
   "metadata": {},
   "outputs": [],
   "source": [
    "# y_train=y_train.T.reshape(-1, 1)"
   ]
  },
  {
   "cell_type": "code",
   "execution_count": 59,
   "id": "e3444af4",
   "metadata": {},
   "outputs": [
    {
     "data": {
      "text/plain": [
       "array([[0., 1.],\n",
       "       [0., 1.],\n",
       "       [0., 1.],\n",
       "       ...,\n",
       "       [0., 1.],\n",
       "       [0., 1.],\n",
       "       [0., 1.]], dtype=float32)"
      ]
     },
     "execution_count": 59,
     "metadata": {},
     "output_type": "execute_result"
    }
   ],
   "source": [
    "y_train"
   ]
  },
  {
   "cell_type": "code",
   "execution_count": 60,
   "id": "0a9727a9",
   "metadata": {},
   "outputs": [
    {
     "data": {
      "text/plain": [
       "(662734, 2)"
      ]
     },
     "execution_count": 60,
     "metadata": {},
     "output_type": "execute_result"
    }
   ],
   "source": [
    "y_train.shape"
   ]
  },
  {
   "cell_type": "code",
   "execution_count": 61,
   "id": "a9a08ff6",
   "metadata": {},
   "outputs": [
    {
     "data": {
      "text/plain": [
       "(662734, 360, 1)"
      ]
     },
     "execution_count": 61,
     "metadata": {},
     "output_type": "execute_result"
    }
   ],
   "source": [
    "x_train.shape"
   ]
  },
  {
   "cell_type": "code",
   "execution_count": 62,
   "id": "65c0063d",
   "metadata": {},
   "outputs": [],
   "source": [
    "input_shape = x_train.shape[1:]\n",
    "\n",
    "model = build_model(\n",
    "    input_shape,\n",
    "    head_size=256,\n",
    "    num_heads=4,\n",
    "    ff_dim=4,\n",
    "    num_transformer_blocks=4,#4\n",
    "    mlp_units=[128],\n",
    "    mlp_dropout=0.4,\n",
    "    dropout=0.25,\n",
    ")"
   ]
  },
  {
   "cell_type": "code",
   "execution_count": 63,
   "id": "93230063",
   "metadata": {},
   "outputs": [],
   "source": [
    "# optimizer = tfa.optimizers.AdamW(learning_rate=0.001, weight_decay = 0.0001)\n",
    "optimizer = tf.optimizers.Adam(learning_rate=0.00001)"
   ]
  },
  {
   "cell_type": "code",
   "execution_count": 64,
   "id": "4b03cbd5",
   "metadata": {},
   "outputs": [],
   "source": [
    "model.compile(optimizer=optimizer, loss=\"binary_crossentropy\",weighted_metrics=[\"accuracy\"])\n",
    "\n"
   ]
  },
  {
   "cell_type": "code",
   "execution_count": 65,
   "id": "e8507549",
   "metadata": {},
   "outputs": [
    {
     "name": "stdout",
     "output_type": "stream",
     "text": [
      "Model: \"model\"\n",
      "__________________________________________________________________________________________________\n",
      " Layer (type)                   Output Shape         Param #     Connected to                     \n",
      "==================================================================================================\n",
      " input_1 (InputLayer)           [(None, 360, 1)]     0           []                               \n",
      "                                                                                                  \n",
      " conv1d_2 (Conv1D)              (None, 180, 132)     1056        ['input_1[0][0]']                \n",
      "                                                                                                  \n",
      " dropout_2 (Dropout)            (None, 180, 132)     0           ['conv1d_2[0][0]']               \n",
      "                                                                                                  \n",
      " conv1d_3 (Conv1D)              (None, 90, 64)       59200       ['dropout_2[0][0]']              \n",
      "                                                                                                  \n",
      " conv1d_transpose_3 (Conv1DTran  (None, 90, 1)       449         ['conv1d_3[0][0]']               \n",
      " spose)                                                                                           \n",
      "                                                                                                  \n",
      " conv1d_transpose_4 (Conv1DTran  (None, 180, 16)     128         ['conv1d_transpose_3[0][0]']     \n",
      " spose)                                                                                           \n",
      "                                                                                                  \n",
      " dropout_3 (Dropout)            (None, 180, 16)      0           ['conv1d_transpose_4[0][0]']     \n",
      "                                                                                                  \n",
      " conv1d_transpose_5 (Conv1DTran  (None, 360, 32)     3616        ['dropout_3[0][0]']              \n",
      " spose)                                                                                           \n",
      "                                                                                                  \n",
      " conv1d_transpose_6 (Conv1DTran  (None, 360, 1)      225         ['conv1d_transpose_5[0][0]']     \n",
      " spose)                                                                                           \n",
      "                                                                                                  \n",
      " layer_normalization (LayerNorm  (None, 360, 1)      2           ['conv1d_transpose_6[0][0]']     \n",
      " alization)                                                                                       \n",
      "                                                                                                  \n",
      " multi_head_attention (MultiHea  (None, 360, 1)      7169        ['layer_normalization[0][0]',    \n",
      " dAttention)                                                      'layer_normalization[0][0]']    \n",
      "                                                                                                  \n",
      " dropout_4 (Dropout)            (None, 360, 1)       0           ['multi_head_attention[0][0]']   \n",
      "                                                                                                  \n",
      " tf.__operators__.add (TFOpLamb  (None, 360, 1)      0           ['dropout_4[0][0]',              \n",
      " da)                                                              'conv1d_transpose_6[0][0]']     \n",
      "                                                                                                  \n",
      " layer_normalization_1 (LayerNo  (None, 360, 1)      2           ['tf.__operators__.add[0][0]']   \n",
      " rmalization)                                                                                     \n",
      "                                                                                                  \n",
      " conv1d_4 (Conv1D)              (None, 360, 4)       8           ['layer_normalization_1[0][0]']  \n",
      "                                                                                                  \n",
      " dropout_5 (Dropout)            (None, 360, 4)       0           ['conv1d_4[0][0]']               \n",
      "                                                                                                  \n",
      " conv1d_5 (Conv1D)              (None, 360, 1)       5           ['dropout_5[0][0]']              \n",
      "                                                                                                  \n",
      " tf.__operators__.add_1 (TFOpLa  (None, 360, 1)      0           ['conv1d_5[0][0]',               \n",
      " mbda)                                                            'tf.__operators__.add[0][0]']   \n",
      "                                                                                                  \n",
      " layer_normalization_2 (LayerNo  (None, 360, 1)      2           ['tf.__operators__.add_1[0][0]'] \n",
      " rmalization)                                                                                     \n",
      "                                                                                                  \n",
      " multi_head_attention_1 (MultiH  (None, 360, 1)      7169        ['layer_normalization_2[0][0]',  \n",
      " eadAttention)                                                    'layer_normalization_2[0][0]']  \n",
      "                                                                                                  \n",
      " dropout_6 (Dropout)            (None, 360, 1)       0           ['multi_head_attention_1[0][0]'] \n",
      "                                                                                                  \n",
      " tf.__operators__.add_2 (TFOpLa  (None, 360, 1)      0           ['dropout_6[0][0]',              \n",
      " mbda)                                                            'tf.__operators__.add_1[0][0]'] \n",
      "                                                                                                  \n",
      " layer_normalization_3 (LayerNo  (None, 360, 1)      2           ['tf.__operators__.add_2[0][0]'] \n",
      " rmalization)                                                                                     \n",
      "                                                                                                  \n",
      " conv1d_6 (Conv1D)              (None, 360, 4)       8           ['layer_normalization_3[0][0]']  \n",
      "                                                                                                  \n",
      " dropout_7 (Dropout)            (None, 360, 4)       0           ['conv1d_6[0][0]']               \n",
      "                                                                                                  \n",
      " conv1d_7 (Conv1D)              (None, 360, 1)       5           ['dropout_7[0][0]']              \n",
      "                                                                                                  \n",
      " tf.__operators__.add_3 (TFOpLa  (None, 360, 1)      0           ['conv1d_7[0][0]',               \n",
      " mbda)                                                            'tf.__operators__.add_2[0][0]'] \n",
      "                                                                                                  \n",
      " layer_normalization_4 (LayerNo  (None, 360, 1)      2           ['tf.__operators__.add_3[0][0]'] \n",
      " rmalization)                                                                                     \n",
      "                                                                                                  \n",
      " multi_head_attention_2 (MultiH  (None, 360, 1)      7169        ['layer_normalization_4[0][0]',  \n",
      " eadAttention)                                                    'layer_normalization_4[0][0]']  \n",
      "                                                                                                  \n",
      " dropout_8 (Dropout)            (None, 360, 1)       0           ['multi_head_attention_2[0][0]'] \n",
      "                                                                                                  \n",
      " tf.__operators__.add_4 (TFOpLa  (None, 360, 1)      0           ['dropout_8[0][0]',              \n",
      " mbda)                                                            'tf.__operators__.add_3[0][0]'] \n",
      "                                                                                                  \n",
      " layer_normalization_5 (LayerNo  (None, 360, 1)      2           ['tf.__operators__.add_4[0][0]'] \n"
     ]
    },
    {
     "name": "stdout",
     "output_type": "stream",
     "text": [
      " rmalization)                                                                                     \n",
      "                                                                                                  \n",
      " conv1d_8 (Conv1D)              (None, 360, 4)       8           ['layer_normalization_5[0][0]']  \n",
      "                                                                                                  \n",
      " dropout_9 (Dropout)            (None, 360, 4)       0           ['conv1d_8[0][0]']               \n",
      "                                                                                                  \n",
      " conv1d_9 (Conv1D)              (None, 360, 1)       5           ['dropout_9[0][0]']              \n",
      "                                                                                                  \n",
      " tf.__operators__.add_5 (TFOpLa  (None, 360, 1)      0           ['conv1d_9[0][0]',               \n",
      " mbda)                                                            'tf.__operators__.add_4[0][0]'] \n",
      "                                                                                                  \n",
      " layer_normalization_6 (LayerNo  (None, 360, 1)      2           ['tf.__operators__.add_5[0][0]'] \n",
      " rmalization)                                                                                     \n",
      "                                                                                                  \n",
      " multi_head_attention_3 (MultiH  (None, 360, 1)      7169        ['layer_normalization_6[0][0]',  \n",
      " eadAttention)                                                    'layer_normalization_6[0][0]']  \n",
      "                                                                                                  \n",
      " dropout_10 (Dropout)           (None, 360, 1)       0           ['multi_head_attention_3[0][0]'] \n",
      "                                                                                                  \n",
      " tf.__operators__.add_6 (TFOpLa  (None, 360, 1)      0           ['dropout_10[0][0]',             \n",
      " mbda)                                                            'tf.__operators__.add_5[0][0]'] \n",
      "                                                                                                  \n",
      " layer_normalization_7 (LayerNo  (None, 360, 1)      2           ['tf.__operators__.add_6[0][0]'] \n",
      " rmalization)                                                                                     \n",
      "                                                                                                  \n",
      " conv1d_10 (Conv1D)             (None, 360, 4)       8           ['layer_normalization_7[0][0]']  \n",
      "                                                                                                  \n",
      " dropout_11 (Dropout)           (None, 360, 4)       0           ['conv1d_10[0][0]']              \n",
      "                                                                                                  \n",
      " conv1d_11 (Conv1D)             (None, 360, 1)       5           ['dropout_11[0][0]']             \n",
      "                                                                                                  \n",
      " tf.__operators__.add_7 (TFOpLa  (None, 360, 1)      0           ['conv1d_11[0][0]',              \n",
      " mbda)                                                            'tf.__operators__.add_6[0][0]'] \n",
      "                                                                                                  \n",
      " global_average_pooling1d (Glob  (None, 360)         0           ['tf.__operators__.add_7[0][0]'] \n",
      " alAveragePooling1D)                                                                              \n",
      "                                                                                                  \n",
      " dense (Dense)                  (None, 128)          46208       ['global_average_pooling1d[0][0]'\n",
      "                                                                 ]                                \n",
      "                                                                                                  \n",
      " dropout_12 (Dropout)           (None, 128)          0           ['dense[0][0]']                  \n",
      "                                                                                                  \n",
      " dense_1 (Dense)                (None, 2)            258         ['dropout_12[0][0]']             \n",
      "                                                                                                  \n",
      "==================================================================================================\n",
      "Total params: 139,884\n",
      "Trainable params: 139,884\n",
      "Non-trainable params: 0\n",
      "__________________________________________________________________________________________________\n"
     ]
    }
   ],
   "source": [
    "model.summary()"
   ]
  },
  {
   "cell_type": "code",
   "execution_count": 66,
   "id": "28ef8847",
   "metadata": {},
   "outputs": [],
   "source": [
    "#hing loss did not work in tiny dataset\n",
    "\n",
    "model.compile(\n",
    "    loss=\"binary_crossentropy\",\n",
    "    optimizer=optimizer,#1e-4\n",
    "    weighted_metrics=[\"accuracy\",\n",
    "             #tf.keras.metrics.CategoricalAccuracy(),\n",
    "             tf.keras.metrics.BinaryAccuracy(),\n",
    "             tfa.metrics.F1Score(num_classes=2,average='micro',threshold=0.5),\n",
    "             tf.keras.metrics.AUC(),\n",
    "             tf.keras.metrics.SpecificityAtSensitivity(0.5),\n",
    "             tf.keras.metrics.SensitivityAtSpecificity(0.5),\n",
    "             tf.keras.metrics.Recall(),\n",
    "             tf.keras.metrics.Precision(),\n",
    "             ]\n",
    ")"
   ]
  },
  {
   "cell_type": "code",
   "execution_count": 67,
   "id": "750cf45a",
   "metadata": {},
   "outputs": [],
   "source": [
    "import os\n",
    "log_dir= \"logs/fit/\" + current_time\n",
    "#Save model folder name as a checkPoint\n",
    "checkpoint_path = \"training_model_4_SpO2_AE_360/cp.ckpt\""
   ]
  },
  {
   "cell_type": "code",
   "execution_count": 68,
   "id": "01bf10cc",
   "metadata": {},
   "outputs": [],
   "source": [
    "callbacks = [keras.callbacks.EarlyStopping(patience=20, restore_best_weights=True),keras.callbacks.ReduceLROnPlateau(\n",
    "        monitor=\"val_loss\",\n",
    "        factor=0.2,\n",
    "        patience=2,\n",
    "        min_lr=0.00000000000000,\n",
    "    ), keras.callbacks.ModelCheckpoint(\n",
    "        checkpoint_path, save_best_only=True, monitor=\"val_loss\"),     tf.keras.callbacks.TensorBoard(log_dir=log_dir, histogram_freq=1)\n",
    "]"
   ]
  },
  {
   "cell_type": "code",
   "execution_count": 69,
   "id": "2446da2f",
   "metadata": {},
   "outputs": [
    {
     "name": "stdout",
     "output_type": "stream",
     "text": [
      "Epoch 1/200\n",
      "8285/8285 [==============================] - ETA: 0s - loss: 0.3335 - accuracy: 0.5131 - binary_accuracy: 0.5131 - f1_score: 0.5135 - auc: 0.5215 - specificity_at_sensitivity: 0.4291 - sensitivity_at_specificity: 0.4291 - recall: 0.5131 - precision: 0.5131"
     ]
    },
    {
     "name": "stderr",
     "output_type": "stream",
     "text": [
      "WARNING:absl:Found untraced functions such as _jit_compiled_convolution_op, _jit_compiled_convolution_op, _jit_compiled_convolution_op, _jit_compiled_convolution_op, _jit_compiled_convolution_op while saving (showing 5 of 62). These functions will not be directly callable after loading.\n"
     ]
    },
    {
     "name": "stdout",
     "output_type": "stream",
     "text": [
      "INFO:tensorflow:Assets written to: training_model_4_SpO2_AE_360\\cp.ckpt\\assets\n"
     ]
    },
    {
     "name": "stderr",
     "output_type": "stream",
     "text": [
      "INFO:tensorflow:Assets written to: training_model_4_SpO2_AE_360\\cp.ckpt\\assets\n"
     ]
    },
    {
     "name": "stdout",
     "output_type": "stream",
     "text": [
      "8285/8285 [==============================] - 1325s 159ms/step - loss: 0.3335 - accuracy: 0.5131 - binary_accuracy: 0.5131 - f1_score: 0.5135 - auc: 0.5215 - specificity_at_sensitivity: 0.4291 - sensitivity_at_specificity: 0.4291 - recall: 0.5131 - precision: 0.5131 - val_loss: 0.6906 - val_accuracy: 0.5307 - val_binary_accuracy: 0.5307 - val_f1_score: 0.5307 - val_auc: 0.5461 - val_specificity_at_sensitivity: 0.5504 - val_sensitivity_at_specificity: 0.5504 - val_recall: 0.5307 - val_precision: 0.5307 - lr: 1.0000e-05\n",
      "Epoch 2/200\n",
      "8284/8285 [============================>.] - ETA: 0s - loss: 0.3279 - accuracy: 0.5788 - binary_accuracy: 0.5788 - f1_score: 0.5742 - auc: 0.6023 - specificity_at_sensitivity: 0.6475 - sensitivity_at_specificity: 0.6475 - recall: 0.5788 - precision: 0.5788"
     ]
    },
    {
     "name": "stderr",
     "output_type": "stream",
     "text": [
      "WARNING:absl:Found untraced functions such as _jit_compiled_convolution_op, _jit_compiled_convolution_op, _jit_compiled_convolution_op, _jit_compiled_convolution_op, _jit_compiled_convolution_op while saving (showing 5 of 62). These functions will not be directly callable after loading.\n"
     ]
    },
    {
     "name": "stdout",
     "output_type": "stream",
     "text": [
      "INFO:tensorflow:Assets written to: training_model_4_SpO2_AE_360\\cp.ckpt\\assets\n"
     ]
    },
    {
     "name": "stderr",
     "output_type": "stream",
     "text": [
      "INFO:tensorflow:Assets written to: training_model_4_SpO2_AE_360\\cp.ckpt\\assets\n"
     ]
    },
    {
     "name": "stdout",
     "output_type": "stream",
     "text": [
      "8285/8285 [==============================] - 1318s 159ms/step - loss: 0.3279 - accuracy: 0.5788 - binary_accuracy: 0.5788 - f1_score: 0.5742 - auc: 0.6023 - specificity_at_sensitivity: 0.6475 - sensitivity_at_specificity: 0.6475 - recall: 0.5788 - precision: 0.5788 - val_loss: 0.6686 - val_accuracy: 0.5820 - val_binary_accuracy: 0.5820 - val_f1_score: 0.5820 - val_auc: 0.6270 - val_specificity_at_sensitivity: 0.6772 - val_sensitivity_at_specificity: 0.6772 - val_recall: 0.5820 - val_precision: 0.5820 - lr: 1.0000e-05\n",
      "Epoch 3/200\n",
      "8284/8285 [============================>.] - ETA: 0s - loss: 0.2743 - accuracy: 0.7042 - binary_accuracy: 0.7042 - f1_score: 0.6968 - auc: 0.7763 - specificity_at_sensitivity: 0.8522 - sensitivity_at_specificity: 0.8522 - recall: 0.7042 - precision: 0.7042"
     ]
    },
    {
     "name": "stderr",
     "output_type": "stream",
     "text": [
      "WARNING:absl:Found untraced functions such as _jit_compiled_convolution_op, _jit_compiled_convolution_op, _jit_compiled_convolution_op, _jit_compiled_convolution_op, _jit_compiled_convolution_op while saving (showing 5 of 62). These functions will not be directly callable after loading.\n"
     ]
    },
    {
     "name": "stdout",
     "output_type": "stream",
     "text": [
      "INFO:tensorflow:Assets written to: training_model_4_SpO2_AE_360\\cp.ckpt\\assets\n"
     ]
    },
    {
     "name": "stderr",
     "output_type": "stream",
     "text": [
      "INFO:tensorflow:Assets written to: training_model_4_SpO2_AE_360\\cp.ckpt\\assets\n"
     ]
    },
    {
     "name": "stdout",
     "output_type": "stream",
     "text": [
      "8285/8285 [==============================] - 1377s 166ms/step - loss: 0.2743 - accuracy: 0.7042 - binary_accuracy: 0.7042 - f1_score: 0.6968 - auc: 0.7763 - specificity_at_sensitivity: 0.8522 - sensitivity_at_specificity: 0.8522 - recall: 0.7042 - precision: 0.7042 - val_loss: 0.4493 - val_accuracy: 0.7783 - val_binary_accuracy: 0.7783 - val_f1_score: 0.7783 - val_auc: 0.8714 - val_specificity_at_sensitivity: 0.9525 - val_sensitivity_at_specificity: 0.9525 - val_recall: 0.7783 - val_precision: 0.7783 - lr: 1.0000e-05\n",
      "Epoch 4/200\n",
      "8284/8285 [============================>.] - ETA: 0s - loss: 0.2235 - accuracy: 0.7812 - binary_accuracy: 0.7812 - f1_score: 0.7762 - auc: 0.8625 - specificity_at_sensitivity: 0.9389 - sensitivity_at_specificity: 0.9389 - recall: 0.7812 - precision: 0.7812"
     ]
    },
    {
     "name": "stderr",
     "output_type": "stream",
     "text": [
      "WARNING:absl:Found untraced functions such as _jit_compiled_convolution_op, _jit_compiled_convolution_op, _jit_compiled_convolution_op, _jit_compiled_convolution_op, _jit_compiled_convolution_op while saving (showing 5 of 62). These functions will not be directly callable after loading.\n"
     ]
    },
    {
     "name": "stdout",
     "output_type": "stream",
     "text": [
      "INFO:tensorflow:Assets written to: training_model_4_SpO2_AE_360\\cp.ckpt\\assets\n"
     ]
    },
    {
     "name": "stderr",
     "output_type": "stream",
     "text": [
      "INFO:tensorflow:Assets written to: training_model_4_SpO2_AE_360\\cp.ckpt\\assets\n"
     ]
    },
    {
     "name": "stdout",
     "output_type": "stream",
     "text": [
      "8285/8285 [==============================] - 1559s 188ms/step - loss: 0.2235 - accuracy: 0.7812 - binary_accuracy: 0.7812 - f1_score: 0.7762 - auc: 0.8625 - specificity_at_sensitivity: 0.9389 - sensitivity_at_specificity: 0.9389 - recall: 0.7812 - precision: 0.7812 - val_loss: 0.4201 - val_accuracy: 0.8013 - val_binary_accuracy: 0.8013 - val_f1_score: 0.8013 - val_auc: 0.8889 - val_specificity_at_sensitivity: 0.9577 - val_sensitivity_at_specificity: 0.9577 - val_recall: 0.8013 - val_precision: 0.8013 - lr: 1.0000e-05\n",
      "Epoch 5/200\n",
      "8284/8285 [============================>.] - ETA: 0s - loss: 0.2176 - accuracy: 0.7887 - binary_accuracy: 0.7887 - f1_score: 0.7854 - auc: 0.8705 - specificity_at_sensitivity: 0.9444 - sensitivity_at_specificity: 0.9444 - recall: 0.7887 - precision: 0.7887"
     ]
    },
    {
     "name": "stderr",
     "output_type": "stream",
     "text": [
      "WARNING:absl:Found untraced functions such as _jit_compiled_convolution_op, _jit_compiled_convolution_op, _jit_compiled_convolution_op, _jit_compiled_convolution_op, _jit_compiled_convolution_op while saving (showing 5 of 62). These functions will not be directly callable after loading.\n"
     ]
    },
    {
     "name": "stdout",
     "output_type": "stream",
     "text": [
      "INFO:tensorflow:Assets written to: training_model_4_SpO2_AE_360\\cp.ckpt\\assets\n"
     ]
    },
    {
     "name": "stderr",
     "output_type": "stream",
     "text": [
      "INFO:tensorflow:Assets written to: training_model_4_SpO2_AE_360\\cp.ckpt\\assets\n"
     ]
    },
    {
     "name": "stdout",
     "output_type": "stream",
     "text": [
      "8285/8285 [==============================] - 1605s 194ms/step - loss: 0.2176 - accuracy: 0.7887 - binary_accuracy: 0.7887 - f1_score: 0.7854 - auc: 0.8705 - specificity_at_sensitivity: 0.9444 - sensitivity_at_specificity: 0.9444 - recall: 0.7887 - precision: 0.7887 - val_loss: 0.4126 - val_accuracy: 0.8104 - val_binary_accuracy: 0.8104 - val_f1_score: 0.8104 - val_auc: 0.8931 - val_specificity_at_sensitivity: 0.9581 - val_sensitivity_at_specificity: 0.9581 - val_recall: 0.8104 - val_precision: 0.8104 - lr: 1.0000e-05\n",
      "Epoch 6/200\n",
      "8284/8285 [============================>.] - ETA: 0s - loss: 0.2144 - accuracy: 0.7921 - binary_accuracy: 0.7921 - f1_score: 0.7901 - auc: 0.8745 - specificity_at_sensitivity: 0.9482 - sensitivity_at_specificity: 0.9482 - recall: 0.7921 - precision: 0.7921"
     ]
    },
    {
     "name": "stderr",
     "output_type": "stream",
     "text": [
      "WARNING:absl:Found untraced functions such as _jit_compiled_convolution_op, _jit_compiled_convolution_op, _jit_compiled_convolution_op, _jit_compiled_convolution_op, _jit_compiled_convolution_op while saving (showing 5 of 62). These functions will not be directly callable after loading.\n"
     ]
    },
    {
     "name": "stdout",
     "output_type": "stream",
     "text": [
      "INFO:tensorflow:Assets written to: training_model_4_SpO2_AE_360\\cp.ckpt\\assets\n"
     ]
    },
    {
     "name": "stderr",
     "output_type": "stream",
     "text": [
      "INFO:tensorflow:Assets written to: training_model_4_SpO2_AE_360\\cp.ckpt\\assets\n"
     ]
    },
    {
     "name": "stdout",
     "output_type": "stream",
     "text": [
      "8285/8285 [==============================] - 1639s 198ms/step - loss: 0.2144 - accuracy: 0.7921 - binary_accuracy: 0.7921 - f1_score: 0.7901 - auc: 0.8745 - specificity_at_sensitivity: 0.9482 - sensitivity_at_specificity: 0.9482 - recall: 0.7921 - precision: 0.7921 - val_loss: 0.4112 - val_accuracy: 0.8104 - val_binary_accuracy: 0.8104 - val_f1_score: 0.8104 - val_auc: 0.8940 - val_specificity_at_sensitivity: 0.9602 - val_sensitivity_at_specificity: 0.9602 - val_recall: 0.8104 - val_precision: 0.8104 - lr: 1.0000e-05\n",
      "Epoch 7/200\n",
      "8284/8285 [============================>.] - ETA: 0s - loss: 0.2121 - accuracy: 0.7946 - binary_accuracy: 0.7946 - f1_score: 0.7939 - auc: 0.8772 - specificity_at_sensitivity: 0.9494 - sensitivity_at_specificity: 0.9494 - recall: 0.7946 - precision: 0.7946"
     ]
    },
    {
     "name": "stderr",
     "output_type": "stream",
     "text": [
      "WARNING:absl:Found untraced functions such as _jit_compiled_convolution_op, _jit_compiled_convolution_op, _jit_compiled_convolution_op, _jit_compiled_convolution_op, _jit_compiled_convolution_op while saving (showing 5 of 62). These functions will not be directly callable after loading.\n"
     ]
    },
    {
     "name": "stdout",
     "output_type": "stream",
     "text": [
      "INFO:tensorflow:Assets written to: training_model_4_SpO2_AE_360\\cp.ckpt\\assets\n"
     ]
    },
    {
     "name": "stderr",
     "output_type": "stream",
     "text": [
      "INFO:tensorflow:Assets written to: training_model_4_SpO2_AE_360\\cp.ckpt\\assets\n"
     ]
    },
    {
     "name": "stdout",
     "output_type": "stream",
     "text": [
      "8285/8285 [==============================] - 1621s 196ms/step - loss: 0.2121 - accuracy: 0.7946 - binary_accuracy: 0.7946 - f1_score: 0.7939 - auc: 0.8772 - specificity_at_sensitivity: 0.9494 - sensitivity_at_specificity: 0.9494 - recall: 0.7946 - precision: 0.7946 - val_loss: 0.4084 - val_accuracy: 0.8118 - val_binary_accuracy: 0.8118 - val_f1_score: 0.8118 - val_auc: 0.8950 - val_specificity_at_sensitivity: 0.9593 - val_sensitivity_at_specificity: 0.9593 - val_recall: 0.8118 - val_precision: 0.8118 - lr: 1.0000e-05\n",
      "Epoch 8/200\n",
      "8284/8285 [============================>.] - ETA: 0s - loss: 0.2095 - accuracy: 0.7964 - binary_accuracy: 0.7964 - f1_score: 0.7965 - auc: 0.8802 - specificity_at_sensitivity: 0.9511 - sensitivity_at_specificity: 0.9511 - recall: 0.7964 - precision: 0.7964"
     ]
    },
    {
     "name": "stderr",
     "output_type": "stream",
     "text": [
      "WARNING:absl:Found untraced functions such as _jit_compiled_convolution_op, _jit_compiled_convolution_op, _jit_compiled_convolution_op, _jit_compiled_convolution_op, _jit_compiled_convolution_op while saving (showing 5 of 62). These functions will not be directly callable after loading.\n"
     ]
    },
    {
     "name": "stdout",
     "output_type": "stream",
     "text": [
      "INFO:tensorflow:Assets written to: training_model_4_SpO2_AE_360\\cp.ckpt\\assets\n"
     ]
    },
    {
     "name": "stderr",
     "output_type": "stream",
     "text": [
      "INFO:tensorflow:Assets written to: training_model_4_SpO2_AE_360\\cp.ckpt\\assets\n"
     ]
    },
    {
     "name": "stdout",
     "output_type": "stream",
     "text": [
      "8285/8285 [==============================] - 1583s 191ms/step - loss: 0.2095 - accuracy: 0.7964 - binary_accuracy: 0.7964 - f1_score: 0.7965 - auc: 0.8802 - specificity_at_sensitivity: 0.9511 - sensitivity_at_specificity: 0.9511 - recall: 0.7964 - precision: 0.7964 - val_loss: 0.4060 - val_accuracy: 0.8118 - val_binary_accuracy: 0.8118 - val_f1_score: 0.8118 - val_auc: 0.8963 - val_specificity_at_sensitivity: 0.9613 - val_sensitivity_at_specificity: 0.9613 - val_recall: 0.8118 - val_precision: 0.8118 - lr: 1.0000e-05\n",
      "Epoch 9/200\n",
      "8284/8285 [============================>.] - ETA: 0s - loss: 0.2072 - accuracy: 0.7982 - binary_accuracy: 0.7982 - f1_score: 0.7986 - auc: 0.8827 - specificity_at_sensitivity: 0.9555 - sensitivity_at_specificity: 0.9555 - recall: 0.7982 - precision: 0.7982"
     ]
    },
    {
     "name": "stderr",
     "output_type": "stream",
     "text": [
      "WARNING:absl:Found untraced functions such as _jit_compiled_convolution_op, _jit_compiled_convolution_op, _jit_compiled_convolution_op, _jit_compiled_convolution_op, _jit_compiled_convolution_op while saving (showing 5 of 62). These functions will not be directly callable after loading.\n"
     ]
    },
    {
     "name": "stdout",
     "output_type": "stream",
     "text": [
      "INFO:tensorflow:Assets written to: training_model_4_SpO2_AE_360\\cp.ckpt\\assets\n"
     ]
    },
    {
     "name": "stderr",
     "output_type": "stream",
     "text": [
      "INFO:tensorflow:Assets written to: training_model_4_SpO2_AE_360\\cp.ckpt\\assets\n"
     ]
    },
    {
     "name": "stdout",
     "output_type": "stream",
     "text": [
      "8285/8285 [==============================] - 1587s 191ms/step - loss: 0.2072 - accuracy: 0.7982 - binary_accuracy: 0.7982 - f1_score: 0.7986 - auc: 0.8827 - specificity_at_sensitivity: 0.9555 - sensitivity_at_specificity: 0.9555 - recall: 0.7982 - precision: 0.7982 - val_loss: 0.4049 - val_accuracy: 0.8129 - val_binary_accuracy: 0.8129 - val_f1_score: 0.8129 - val_auc: 0.8968 - val_specificity_at_sensitivity: 0.9608 - val_sensitivity_at_specificity: 0.9608 - val_recall: 0.8129 - val_precision: 0.8129 - lr: 1.0000e-05\n",
      "Epoch 10/200\n",
      "8284/8285 [============================>.] - ETA: 0s - loss: 0.2053 - accuracy: 0.7997 - binary_accuracy: 0.7997 - f1_score: 0.8000 - auc: 0.8846 - specificity_at_sensitivity: 0.9567 - sensitivity_at_specificity: 0.9567 - recall: 0.7997 - precision: 0.7997"
     ]
    },
    {
     "name": "stderr",
     "output_type": "stream",
     "text": [
      "WARNING:absl:Found untraced functions such as _jit_compiled_convolution_op, _jit_compiled_convolution_op, _jit_compiled_convolution_op, _jit_compiled_convolution_op, _jit_compiled_convolution_op while saving (showing 5 of 62). These functions will not be directly callable after loading.\n"
     ]
    },
    {
     "name": "stdout",
     "output_type": "stream",
     "text": [
      "INFO:tensorflow:Assets written to: training_model_4_SpO2_AE_360\\cp.ckpt\\assets\n"
     ]
    },
    {
     "name": "stderr",
     "output_type": "stream",
     "text": [
      "INFO:tensorflow:Assets written to: training_model_4_SpO2_AE_360\\cp.ckpt\\assets\n"
     ]
    },
    {
     "name": "stdout",
     "output_type": "stream",
     "text": [
      "8285/8285 [==============================] - 1521s 184ms/step - loss: 0.2053 - accuracy: 0.7997 - binary_accuracy: 0.7997 - f1_score: 0.8000 - auc: 0.8847 - specificity_at_sensitivity: 0.9567 - sensitivity_at_specificity: 0.9567 - recall: 0.7997 - precision: 0.7997 - val_loss: 0.4007 - val_accuracy: 0.8136 - val_binary_accuracy: 0.8136 - val_f1_score: 0.8136 - val_auc: 0.8987 - val_specificity_at_sensitivity: 0.9650 - val_sensitivity_at_specificity: 0.9650 - val_recall: 0.8136 - val_precision: 0.8136 - lr: 1.0000e-05\n",
      "Epoch 11/200\n",
      "8285/8285 [==============================] - 1499s 181ms/step - loss: 0.2035 - accuracy: 0.8008 - binary_accuracy: 0.8008 - f1_score: 0.8009 - auc: 0.8866 - specificity_at_sensitivity: 0.9581 - sensitivity_at_specificity: 0.9581 - recall: 0.8008 - precision: 0.8008 - val_loss: 0.4053 - val_accuracy: 0.8125 - val_binary_accuracy: 0.8125 - val_f1_score: 0.8125 - val_auc: 0.8963 - val_specificity_at_sensitivity: 0.9610 - val_sensitivity_at_specificity: 0.9610 - val_recall: 0.8125 - val_precision: 0.8125 - lr: 1.0000e-05\n",
      "Epoch 12/200\n",
      "8284/8285 [============================>.] - ETA: 0s - loss: 0.2023 - accuracy: 0.8020 - binary_accuracy: 0.8020 - f1_score: 0.8020 - auc: 0.8879 - specificity_at_sensitivity: 0.9591 - sensitivity_at_specificity: 0.9591 - recall: 0.8020 - precision: 0.8020"
     ]
    },
    {
     "name": "stderr",
     "output_type": "stream",
     "text": [
      "WARNING:absl:Found untraced functions such as _jit_compiled_convolution_op, _jit_compiled_convolution_op, _jit_compiled_convolution_op, _jit_compiled_convolution_op, _jit_compiled_convolution_op while saving (showing 5 of 62). These functions will not be directly callable after loading.\n"
     ]
    },
    {
     "name": "stdout",
     "output_type": "stream",
     "text": [
      "INFO:tensorflow:Assets written to: training_model_4_SpO2_AE_360\\cp.ckpt\\assets\n"
     ]
    },
    {
     "name": "stderr",
     "output_type": "stream",
     "text": [
      "INFO:tensorflow:Assets written to: training_model_4_SpO2_AE_360\\cp.ckpt\\assets\n"
     ]
    },
    {
     "name": "stdout",
     "output_type": "stream",
     "text": [
      "8285/8285 [==============================] - 1496s 181ms/step - loss: 0.2023 - accuracy: 0.8020 - binary_accuracy: 0.8020 - f1_score: 0.8020 - auc: 0.8879 - specificity_at_sensitivity: 0.9591 - sensitivity_at_specificity: 0.9591 - recall: 0.8020 - precision: 0.8020 - val_loss: 0.3992 - val_accuracy: 0.8172 - val_binary_accuracy: 0.8172 - val_f1_score: 0.8172 - val_auc: 0.8995 - val_specificity_at_sensitivity: 0.9642 - val_sensitivity_at_specificity: 0.9642 - val_recall: 0.8172 - val_precision: 0.8172 - lr: 1.0000e-05\n",
      "Epoch 13/200\n",
      "8284/8285 [============================>.] - ETA: 0s - loss: 0.2009 - accuracy: 0.8034 - binary_accuracy: 0.8034 - f1_score: 0.8035 - auc: 0.8894 - specificity_at_sensitivity: 0.9601 - sensitivity_at_specificity: 0.9601 - recall: 0.8034 - precision: 0.8034"
     ]
    },
    {
     "name": "stderr",
     "output_type": "stream",
     "text": [
      "WARNING:absl:Found untraced functions such as _jit_compiled_convolution_op, _jit_compiled_convolution_op, _jit_compiled_convolution_op, _jit_compiled_convolution_op, _jit_compiled_convolution_op while saving (showing 5 of 62). These functions will not be directly callable after loading.\n"
     ]
    },
    {
     "name": "stdout",
     "output_type": "stream",
     "text": [
      "INFO:tensorflow:Assets written to: training_model_4_SpO2_AE_360\\cp.ckpt\\assets\n"
     ]
    },
    {
     "name": "stderr",
     "output_type": "stream",
     "text": [
      "INFO:tensorflow:Assets written to: training_model_4_SpO2_AE_360\\cp.ckpt\\assets\n"
     ]
    },
    {
     "name": "stdout",
     "output_type": "stream",
     "text": [
      "8285/8285 [==============================] - 1497s 181ms/step - loss: 0.2009 - accuracy: 0.8034 - binary_accuracy: 0.8034 - f1_score: 0.8035 - auc: 0.8894 - specificity_at_sensitivity: 0.9601 - sensitivity_at_specificity: 0.9601 - recall: 0.8034 - precision: 0.8034 - val_loss: 0.3985 - val_accuracy: 0.8118 - val_binary_accuracy: 0.8118 - val_f1_score: 0.8118 - val_auc: 0.8995 - val_specificity_at_sensitivity: 0.9663 - val_sensitivity_at_specificity: 0.9663 - val_recall: 0.8118 - val_precision: 0.8118 - lr: 1.0000e-05\n",
      "Epoch 14/200\n",
      "8285/8285 [==============================] - 1491s 180ms/step - loss: 0.1997 - accuracy: 0.8040 - binary_accuracy: 0.8040 - f1_score: 0.8043 - auc: 0.8908 - specificity_at_sensitivity: 0.9611 - sensitivity_at_specificity: 0.9611 - recall: 0.8040 - precision: 0.8040 - val_loss: 0.4128 - val_accuracy: 0.8095 - val_binary_accuracy: 0.8095 - val_f1_score: 0.8095 - val_auc: 0.8915 - val_specificity_at_sensitivity: 0.9587 - val_sensitivity_at_specificity: 0.9587 - val_recall: 0.8095 - val_precision: 0.8095 - lr: 1.0000e-05\n",
      "Epoch 15/200\n",
      "8285/8285 [==============================] - 1492s 180ms/step - loss: 0.1987 - accuracy: 0.8051 - binary_accuracy: 0.8051 - f1_score: 0.8055 - auc: 0.8919 - specificity_at_sensitivity: 0.9617 - sensitivity_at_specificity: 0.9617 - recall: 0.8051 - precision: 0.8051 - val_loss: 0.4364 - val_accuracy: 0.7931 - val_binary_accuracy: 0.7931 - val_f1_score: 0.7931 - val_auc: 0.8776 - val_specificity_at_sensitivity: 0.9491 - val_sensitivity_at_specificity: 0.9491 - val_recall: 0.7931 - val_precision: 0.7931 - lr: 1.0000e-05\n",
      "Epoch 16/200\n",
      "8284/8285 [============================>.] - ETA: 0s - loss: 0.1951 - accuracy: 0.8076 - binary_accuracy: 0.8076 - f1_score: 0.8079 - auc: 0.8960 - specificity_at_sensitivity: 0.9657 - sensitivity_at_specificity: 0.9657 - recall: 0.8076 - precision: 0.8076"
     ]
    },
    {
     "name": "stderr",
     "output_type": "stream",
     "text": [
      "WARNING:absl:Found untraced functions such as _jit_compiled_convolution_op, _jit_compiled_convolution_op, _jit_compiled_convolution_op, _jit_compiled_convolution_op, _jit_compiled_convolution_op while saving (showing 5 of 62). These functions will not be directly callable after loading.\n"
     ]
    },
    {
     "name": "stdout",
     "output_type": "stream",
     "text": [
      "INFO:tensorflow:Assets written to: training_model_4_SpO2_AE_360\\cp.ckpt\\assets\n"
     ]
    },
    {
     "name": "stderr",
     "output_type": "stream",
     "text": [
      "INFO:tensorflow:Assets written to: training_model_4_SpO2_AE_360\\cp.ckpt\\assets\n"
     ]
    },
    {
     "name": "stdout",
     "output_type": "stream",
     "text": [
      "8285/8285 [==============================] - 1499s 181ms/step - loss: 0.1951 - accuracy: 0.8076 - binary_accuracy: 0.8076 - f1_score: 0.8079 - auc: 0.8960 - specificity_at_sensitivity: 0.9657 - sensitivity_at_specificity: 0.9657 - recall: 0.8076 - precision: 0.8076 - val_loss: 0.3893 - val_accuracy: 0.8209 - val_binary_accuracy: 0.8209 - val_f1_score: 0.8209 - val_auc: 0.9049 - val_specificity_at_sensitivity: 0.9680 - val_sensitivity_at_specificity: 0.9680 - val_recall: 0.8209 - val_precision: 0.8209 - lr: 2.0000e-06\n",
      "Epoch 17/200\n",
      "8284/8285 [============================>.] - ETA: 0s - loss: 0.1950 - accuracy: 0.8079 - binary_accuracy: 0.8079 - f1_score: 0.8086 - auc: 0.8962 - specificity_at_sensitivity: 0.9650 - sensitivity_at_specificity: 0.9650 - recall: 0.8079 - precision: 0.8079"
     ]
    },
    {
     "name": "stderr",
     "output_type": "stream",
     "text": [
      "WARNING:absl:Found untraced functions such as _jit_compiled_convolution_op, _jit_compiled_convolution_op, _jit_compiled_convolution_op, _jit_compiled_convolution_op, _jit_compiled_convolution_op while saving (showing 5 of 62). These functions will not be directly callable after loading.\n"
     ]
    },
    {
     "name": "stdout",
     "output_type": "stream",
     "text": [
      "INFO:tensorflow:Assets written to: training_model_4_SpO2_AE_360\\cp.ckpt\\assets\n"
     ]
    },
    {
     "name": "stderr",
     "output_type": "stream",
     "text": [
      "INFO:tensorflow:Assets written to: training_model_4_SpO2_AE_360\\cp.ckpt\\assets\n"
     ]
    },
    {
     "name": "stdout",
     "output_type": "stream",
     "text": [
      "8285/8285 [==============================] - 1499s 181ms/step - loss: 0.1950 - accuracy: 0.8079 - binary_accuracy: 0.8079 - f1_score: 0.8086 - auc: 0.8962 - specificity_at_sensitivity: 0.9650 - sensitivity_at_specificity: 0.9650 - recall: 0.8079 - precision: 0.8079 - val_loss: 0.3871 - val_accuracy: 0.8209 - val_binary_accuracy: 0.8209 - val_f1_score: 0.8209 - val_auc: 0.9058 - val_specificity_at_sensitivity: 0.9704 - val_sensitivity_at_specificity: 0.9704 - val_recall: 0.8209 - val_precision: 0.8209 - lr: 2.0000e-06\n",
      "Epoch 18/200\n",
      "8285/8285 [==============================] - 1490s 180ms/step - loss: 0.1947 - accuracy: 0.8085 - binary_accuracy: 0.8085 - f1_score: 0.8092 - auc: 0.8965 - specificity_at_sensitivity: 0.9647 - sensitivity_at_specificity: 0.9647 - recall: 0.8085 - precision: 0.8085 - val_loss: 0.3903 - val_accuracy: 0.8224 - val_binary_accuracy: 0.8224 - val_f1_score: 0.8224 - val_auc: 0.9042 - val_specificity_at_sensitivity: 0.9693 - val_sensitivity_at_specificity: 0.9693 - val_recall: 0.8224 - val_precision: 0.8224 - lr: 2.0000e-06\n",
      "Epoch 19/200\n",
      "8284/8285 [============================>.] - ETA: 0s - loss: 0.1947 - accuracy: 0.8087 - binary_accuracy: 0.8087 - f1_score: 0.8095 - auc: 0.8965 - specificity_at_sensitivity: 0.9646 - sensitivity_at_specificity: 0.9646 - recall: 0.8087 - precision: 0.8087"
     ]
    },
    {
     "name": "stderr",
     "output_type": "stream",
     "text": [
      "WARNING:absl:Found untraced functions such as _jit_compiled_convolution_op, _jit_compiled_convolution_op, _jit_compiled_convolution_op, _jit_compiled_convolution_op, _jit_compiled_convolution_op while saving (showing 5 of 62). These functions will not be directly callable after loading.\n"
     ]
    },
    {
     "name": "stdout",
     "output_type": "stream",
     "text": [
      "INFO:tensorflow:Assets written to: training_model_4_SpO2_AE_360\\cp.ckpt\\assets\n"
     ]
    },
    {
     "name": "stderr",
     "output_type": "stream",
     "text": [
      "INFO:tensorflow:Assets written to: training_model_4_SpO2_AE_360\\cp.ckpt\\assets\n"
     ]
    },
    {
     "name": "stdout",
     "output_type": "stream",
     "text": [
      "8285/8285 [==============================] - 1499s 181ms/step - loss: 0.1947 - accuracy: 0.8087 - binary_accuracy: 0.8087 - f1_score: 0.8095 - auc: 0.8965 - specificity_at_sensitivity: 0.9646 - sensitivity_at_specificity: 0.9646 - recall: 0.8087 - precision: 0.8087 - val_loss: 0.3855 - val_accuracy: 0.8221 - val_binary_accuracy: 0.8221 - val_f1_score: 0.8221 - val_auc: 0.9065 - val_specificity_at_sensitivity: 0.9700 - val_sensitivity_at_specificity: 0.9700 - val_recall: 0.8221 - val_precision: 0.8221 - lr: 2.0000e-06\n",
      "Epoch 20/200\n",
      "8285/8285 [==============================] - 1523s 184ms/step - loss: 0.1945 - accuracy: 0.8087 - binary_accuracy: 0.8087 - f1_score: 0.8097 - auc: 0.8967 - specificity_at_sensitivity: 0.9649 - sensitivity_at_specificity: 0.9649 - recall: 0.8087 - precision: 0.8087 - val_loss: 0.3870 - val_accuracy: 0.8239 - val_binary_accuracy: 0.8239 - val_f1_score: 0.8239 - val_auc: 0.9059 - val_specificity_at_sensitivity: 0.9694 - val_sensitivity_at_specificity: 0.9694 - val_recall: 0.8239 - val_precision: 0.8239 - lr: 2.0000e-06\n",
      "Epoch 21/200\n",
      "8285/8285 [==============================] - 1591s 192ms/step - loss: 0.1943 - accuracy: 0.8091 - binary_accuracy: 0.8091 - f1_score: 0.8100 - auc: 0.8969 - specificity_at_sensitivity: 0.9649 - sensitivity_at_specificity: 0.9649 - recall: 0.8091 - precision: 0.8091 - val_loss: 0.3891 - val_accuracy: 0.8213 - val_binary_accuracy: 0.8213 - val_f1_score: 0.8213 - val_auc: 0.9048 - val_specificity_at_sensitivity: 0.9701 - val_sensitivity_at_specificity: 0.9701 - val_recall: 0.8213 - val_precision: 0.8213 - lr: 2.0000e-06\n",
      "Epoch 22/200\n",
      "8285/8285 [==============================] - 1636s 197ms/step - loss: 0.1935 - accuracy: 0.8102 - binary_accuracy: 0.8102 - f1_score: 0.8109 - auc: 0.8979 - specificity_at_sensitivity: 0.9654 - sensitivity_at_specificity: 0.9654 - recall: 0.8102 - precision: 0.8102 - val_loss: 0.3901 - val_accuracy: 0.8220 - val_binary_accuracy: 0.8220 - val_f1_score: 0.8220 - val_auc: 0.9043 - val_specificity_at_sensitivity: 0.9672 - val_sensitivity_at_specificity: 0.9672 - val_recall: 0.8220 - val_precision: 0.8220 - lr: 4.0000e-07\n",
      "Epoch 23/200\n",
      "8284/8285 [============================>.] - ETA: 0s - loss: 0.1934 - accuracy: 0.8096 - binary_accuracy: 0.8096 - f1_score: 0.8103 - auc: 0.8979 - specificity_at_sensitivity: 0.9656 - sensitivity_at_specificity: 0.9656 - recall: 0.8096 - precision: 0.8096"
     ]
    },
    {
     "name": "stderr",
     "output_type": "stream",
     "text": [
      "WARNING:absl:Found untraced functions such as _jit_compiled_convolution_op, _jit_compiled_convolution_op, _jit_compiled_convolution_op, _jit_compiled_convolution_op, _jit_compiled_convolution_op while saving (showing 5 of 62). These functions will not be directly callable after loading.\n"
     ]
    },
    {
     "name": "stdout",
     "output_type": "stream",
     "text": [
      "INFO:tensorflow:Assets written to: training_model_4_SpO2_AE_360\\cp.ckpt\\assets\n"
     ]
    },
    {
     "name": "stderr",
     "output_type": "stream",
     "text": [
      "INFO:tensorflow:Assets written to: training_model_4_SpO2_AE_360\\cp.ckpt\\assets\n"
     ]
    },
    {
     "name": "stdout",
     "output_type": "stream",
     "text": [
      "8285/8285 [==============================] - 1643s 198ms/step - loss: 0.1934 - accuracy: 0.8096 - binary_accuracy: 0.8096 - f1_score: 0.8103 - auc: 0.8979 - specificity_at_sensitivity: 0.9656 - sensitivity_at_specificity: 0.9656 - recall: 0.8096 - precision: 0.8096 - val_loss: 0.3852 - val_accuracy: 0.8241 - val_binary_accuracy: 0.8241 - val_f1_score: 0.8241 - val_auc: 0.9070 - val_specificity_at_sensitivity: 0.9691 - val_sensitivity_at_specificity: 0.9691 - val_recall: 0.8241 - val_precision: 0.8241 - lr: 4.0000e-07\n",
      "Epoch 24/200\n",
      "8285/8285 [==============================] - 1645s 199ms/step - loss: 0.1933 - accuracy: 0.8102 - binary_accuracy: 0.8102 - f1_score: 0.8109 - auc: 0.8981 - specificity_at_sensitivity: 0.9677 - sensitivity_at_specificity: 0.9677 - recall: 0.8102 - precision: 0.8102 - val_loss: 0.3861 - val_accuracy: 0.8231 - val_binary_accuracy: 0.8231 - val_f1_score: 0.8231 - val_auc: 0.9064 - val_specificity_at_sensitivity: 0.9709 - val_sensitivity_at_specificity: 0.9709 - val_recall: 0.8231 - val_precision: 0.8231 - lr: 4.0000e-07\n",
      "Epoch 25/200\n",
      "8285/8285 [==============================] - 1665s 201ms/step - loss: 0.1932 - accuracy: 0.8103 - binary_accuracy: 0.8103 - f1_score: 0.8112 - auc: 0.8981 - specificity_at_sensitivity: 0.9680 - sensitivity_at_specificity: 0.9680 - recall: 0.8103 - precision: 0.8103 - val_loss: 0.3901 - val_accuracy: 0.8211 - val_binary_accuracy: 0.8211 - val_f1_score: 0.8211 - val_auc: 0.9041 - val_specificity_at_sensitivity: 0.9698 - val_sensitivity_at_specificity: 0.9698 - val_recall: 0.8211 - val_precision: 0.8211 - lr: 4.0000e-07\n",
      "Epoch 26/200\n",
      "8285/8285 [==============================] - 1653s 200ms/step - loss: 0.1931 - accuracy: 0.8100 - binary_accuracy: 0.8100 - f1_score: 0.8110 - auc: 0.8982 - specificity_at_sensitivity: 0.9654 - sensitivity_at_specificity: 0.9654 - recall: 0.8100 - precision: 0.8100 - val_loss: 0.3873 - val_accuracy: 0.8228 - val_binary_accuracy: 0.8228 - val_f1_score: 0.8228 - val_auc: 0.9058 - val_specificity_at_sensitivity: 0.9707 - val_sensitivity_at_specificity: 0.9707 - val_recall: 0.8228 - val_precision: 0.8228 - lr: 8.0000e-08\n",
      "Epoch 27/200\n",
      "8285/8285 [==============================] - 1660s 200ms/step - loss: 0.1932 - accuracy: 0.8099 - binary_accuracy: 0.8099 - f1_score: 0.8107 - auc: 0.8982 - specificity_at_sensitivity: 0.9654 - sensitivity_at_specificity: 0.9654 - recall: 0.8099 - precision: 0.8099 - val_loss: 0.3874 - val_accuracy: 0.8230 - val_binary_accuracy: 0.8230 - val_f1_score: 0.8230 - val_auc: 0.9058 - val_specificity_at_sensitivity: 0.9705 - val_sensitivity_at_specificity: 0.9705 - val_recall: 0.8230 - val_precision: 0.8230 - lr: 8.0000e-08\n",
      "Epoch 28/200\n",
      "8285/8285 [==============================] - 1685s 203ms/step - loss: 0.1931 - accuracy: 0.8103 - binary_accuracy: 0.8103 - f1_score: 0.8111 - auc: 0.8983 - specificity_at_sensitivity: 0.9655 - sensitivity_at_specificity: 0.9655 - recall: 0.8103 - precision: 0.8103 - val_loss: 0.3871 - val_accuracy: 0.8230 - val_binary_accuracy: 0.8230 - val_f1_score: 0.8230 - val_auc: 0.9059 - val_specificity_at_sensitivity: 0.9705 - val_sensitivity_at_specificity: 0.9705 - val_recall: 0.8230 - val_precision: 0.8230 - lr: 1.6000e-08\n",
      "Epoch 29/200\n",
      "8285/8285 [==============================] - 1598s 193ms/step - loss: 0.1931 - accuracy: 0.8098 - binary_accuracy: 0.8098 - f1_score: 0.8106 - auc: 0.8984 - specificity_at_sensitivity: 0.9655 - sensitivity_at_specificity: 0.9655 - recall: 0.8098 - precision: 0.8098 - val_loss: 0.3873 - val_accuracy: 0.8227 - val_binary_accuracy: 0.8227 - val_f1_score: 0.8227 - val_auc: 0.9058 - val_specificity_at_sensitivity: 0.9704 - val_sensitivity_at_specificity: 0.9704 - val_recall: 0.8227 - val_precision: 0.8227 - lr: 1.6000e-08\n",
      "Epoch 30/200\n",
      "8285/8285 [==============================] - 1543s 186ms/step - loss: 0.1931 - accuracy: 0.8096 - binary_accuracy: 0.8096 - f1_score: 0.8106 - auc: 0.8983 - specificity_at_sensitivity: 0.9656 - sensitivity_at_specificity: 0.9656 - recall: 0.8096 - precision: 0.8096 - val_loss: 0.3869 - val_accuracy: 0.8230 - val_binary_accuracy: 0.8230 - val_f1_score: 0.8230 - val_auc: 0.9060 - val_specificity_at_sensitivity: 0.9706 - val_sensitivity_at_specificity: 0.9706 - val_recall: 0.8230 - val_precision: 0.8230 - lr: 3.2000e-09\n",
      "Epoch 31/200\n",
      "8285/8285 [==============================] - 1509s 182ms/step - loss: 0.1929 - accuracy: 0.8102 - binary_accuracy: 0.8102 - f1_score: 0.8111 - auc: 0.8985 - specificity_at_sensitivity: 0.9681 - sensitivity_at_specificity: 0.9681 - recall: 0.8102 - precision: 0.8102 - val_loss: 0.3869 - val_accuracy: 0.8230 - val_binary_accuracy: 0.8230 - val_f1_score: 0.8230 - val_auc: 0.9060 - val_specificity_at_sensitivity: 0.9706 - val_sensitivity_at_specificity: 0.9706 - val_recall: 0.8230 - val_precision: 0.8230 - lr: 3.2000e-09\n",
      "Epoch 32/200\n",
      "8285/8285 [==============================] - 1515s 183ms/step - loss: 0.1931 - accuracy: 0.8099 - binary_accuracy: 0.8099 - f1_score: 0.8107 - auc: 0.8983 - specificity_at_sensitivity: 0.9681 - sensitivity_at_specificity: 0.9681 - recall: 0.8099 - precision: 0.8099 - val_loss: 0.3869 - val_accuracy: 0.8230 - val_binary_accuracy: 0.8230 - val_f1_score: 0.8230 - val_auc: 0.9060 - val_specificity_at_sensitivity: 0.9706 - val_sensitivity_at_specificity: 0.9706 - val_recall: 0.8230 - val_precision: 0.8230 - lr: 6.4000e-10\n",
      "Epoch 33/200\n",
      "8285/8285 [==============================] - 1518s 183ms/step - loss: 0.1930 - accuracy: 0.8099 - binary_accuracy: 0.8099 - f1_score: 0.8109 - auc: 0.8984 - specificity_at_sensitivity: 0.9656 - sensitivity_at_specificity: 0.9656 - recall: 0.8099 - precision: 0.8099 - val_loss: 0.3869 - val_accuracy: 0.8230 - val_binary_accuracy: 0.8230 - val_f1_score: 0.8230 - val_auc: 0.9060 - val_specificity_at_sensitivity: 0.9706 - val_sensitivity_at_specificity: 0.9706 - val_recall: 0.8230 - val_precision: 0.8230 - lr: 6.4000e-10\n",
      "Epoch 34/200\n",
      "8285/8285 [==============================] - 1507s 182ms/step - loss: 0.1931 - accuracy: 0.8097 - binary_accuracy: 0.8097 - f1_score: 0.8105 - auc: 0.8983 - specificity_at_sensitivity: 0.9680 - sensitivity_at_specificity: 0.9680 - recall: 0.8097 - precision: 0.8097 - val_loss: 0.3869 - val_accuracy: 0.8230 - val_binary_accuracy: 0.8230 - val_f1_score: 0.8230 - val_auc: 0.9060 - val_specificity_at_sensitivity: 0.9706 - val_sensitivity_at_specificity: 0.9706 - val_recall: 0.8230 - val_precision: 0.8230 - lr: 1.2800e-10\n",
      "Epoch 35/200\n",
      "8285/8285 [==============================] - 1542s 186ms/step - loss: 0.1930 - accuracy: 0.8103 - binary_accuracy: 0.8103 - f1_score: 0.8111 - auc: 0.8984 - specificity_at_sensitivity: 0.9655 - sensitivity_at_specificity: 0.9655 - recall: 0.8104 - precision: 0.8104 - val_loss: 0.3869 - val_accuracy: 0.8230 - val_binary_accuracy: 0.8230 - val_f1_score: 0.8230 - val_auc: 0.9060 - val_specificity_at_sensitivity: 0.9706 - val_sensitivity_at_specificity: 0.9706 - val_recall: 0.8230 - val_precision: 0.8230 - lr: 1.2800e-10\n",
      "Epoch 36/200\n",
      "8285/8285 [==============================] - 1593s 192ms/step - loss: 0.1930 - accuracy: 0.8103 - binary_accuracy: 0.8103 - f1_score: 0.8111 - auc: 0.8983 - specificity_at_sensitivity: 0.9681 - sensitivity_at_specificity: 0.9681 - recall: 0.8103 - precision: 0.8103 - val_loss: 0.3869 - val_accuracy: 0.8230 - val_binary_accuracy: 0.8230 - val_f1_score: 0.8230 - val_auc: 0.9060 - val_specificity_at_sensitivity: 0.9706 - val_sensitivity_at_specificity: 0.9706 - val_recall: 0.8230 - val_precision: 0.8230 - lr: 2.5600e-11\n",
      "Epoch 37/200\n",
      "8285/8285 [==============================] - 1604s 194ms/step - loss: 0.1931 - accuracy: 0.8101 - binary_accuracy: 0.8101 - f1_score: 0.8109 - auc: 0.8982 - specificity_at_sensitivity: 0.9654 - sensitivity_at_specificity: 0.9654 - recall: 0.8101 - precision: 0.8101 - val_loss: 0.3869 - val_accuracy: 0.8230 - val_binary_accuracy: 0.8230 - val_f1_score: 0.8230 - val_auc: 0.9060 - val_specificity_at_sensitivity: 0.9706 - val_sensitivity_at_specificity: 0.9706 - val_recall: 0.8230 - val_precision: 0.8230 - lr: 2.5600e-11\n",
      "Epoch 38/200\n"
     ]
    },
    {
     "name": "stdout",
     "output_type": "stream",
     "text": [
      "8285/8285 [==============================] - 1609s 194ms/step - loss: 0.1930 - accuracy: 0.8099 - binary_accuracy: 0.8099 - f1_score: 0.8107 - auc: 0.8983 - specificity_at_sensitivity: 0.9656 - sensitivity_at_specificity: 0.9656 - recall: 0.8099 - precision: 0.8099 - val_loss: 0.3869 - val_accuracy: 0.8230 - val_binary_accuracy: 0.8230 - val_f1_score: 0.8230 - val_auc: 0.9060 - val_specificity_at_sensitivity: 0.9706 - val_sensitivity_at_specificity: 0.9706 - val_recall: 0.8230 - val_precision: 0.8230 - lr: 5.1200e-12\n",
      "Epoch 39/200\n",
      "8285/8285 [==============================] - 1720s 208ms/step - loss: 0.1931 - accuracy: 0.8103 - binary_accuracy: 0.8103 - f1_score: 0.8111 - auc: 0.8983 - specificity_at_sensitivity: 0.9655 - sensitivity_at_specificity: 0.9655 - recall: 0.8103 - precision: 0.8103 - val_loss: 0.3869 - val_accuracy: 0.8230 - val_binary_accuracy: 0.8230 - val_f1_score: 0.8230 - val_auc: 0.9060 - val_specificity_at_sensitivity: 0.9706 - val_sensitivity_at_specificity: 0.9706 - val_recall: 0.8230 - val_precision: 0.8230 - lr: 5.1200e-12\n",
      "Epoch 40/200\n",
      "8285/8285 [==============================] - 1779s 215ms/step - loss: 0.1930 - accuracy: 0.8102 - binary_accuracy: 0.8102 - f1_score: 0.8110 - auc: 0.8984 - specificity_at_sensitivity: 0.9656 - sensitivity_at_specificity: 0.9656 - recall: 0.8102 - precision: 0.8102 - val_loss: 0.3869 - val_accuracy: 0.8230 - val_binary_accuracy: 0.8230 - val_f1_score: 0.8230 - val_auc: 0.9060 - val_specificity_at_sensitivity: 0.9706 - val_sensitivity_at_specificity: 0.9706 - val_recall: 0.8230 - val_precision: 0.8230 - lr: 1.0240e-12\n",
      "Epoch 41/200\n",
      "8285/8285 [==============================] - 1784s 215ms/step - loss: 0.1930 - accuracy: 0.8100 - binary_accuracy: 0.8100 - f1_score: 0.8108 - auc: 0.8984 - specificity_at_sensitivity: 0.9657 - sensitivity_at_specificity: 0.9657 - recall: 0.8100 - precision: 0.8100 - val_loss: 0.3869 - val_accuracy: 0.8230 - val_binary_accuracy: 0.8230 - val_f1_score: 0.8230 - val_auc: 0.9060 - val_specificity_at_sensitivity: 0.9706 - val_sensitivity_at_specificity: 0.9706 - val_recall: 0.8230 - val_precision: 0.8230 - lr: 1.0240e-12\n",
      "Epoch 42/200\n",
      "8285/8285 [==============================] - 1614s 195ms/step - loss: 0.1929 - accuracy: 0.8103 - binary_accuracy: 0.8103 - f1_score: 0.8112 - auc: 0.8985 - specificity_at_sensitivity: 0.9658 - sensitivity_at_specificity: 0.9658 - recall: 0.8103 - precision: 0.8103 - val_loss: 0.3869 - val_accuracy: 0.8230 - val_binary_accuracy: 0.8230 - val_f1_score: 0.8230 - val_auc: 0.9060 - val_specificity_at_sensitivity: 0.9706 - val_sensitivity_at_specificity: 0.9706 - val_recall: 0.8230 - val_precision: 0.8230 - lr: 2.0480e-13\n",
      "Epoch 43/200\n",
      "8285/8285 [==============================] - 1543s 186ms/step - loss: 0.1931 - accuracy: 0.8102 - binary_accuracy: 0.8102 - f1_score: 0.8110 - auc: 0.8983 - specificity_at_sensitivity: 0.9655 - sensitivity_at_specificity: 0.9655 - recall: 0.8102 - precision: 0.8102 - val_loss: 0.3869 - val_accuracy: 0.8230 - val_binary_accuracy: 0.8230 - val_f1_score: 0.8230 - val_auc: 0.9060 - val_specificity_at_sensitivity: 0.9706 - val_sensitivity_at_specificity: 0.9706 - val_recall: 0.8230 - val_precision: 0.8230 - lr: 2.0480e-13\n"
     ]
    }
   ],
   "source": [
    "#batch_size=64 is the maximum that my GPU can handle\n",
    "history= model.fit(\n",
    "    x_train,\n",
    "    y_train,\n",
    "    validation_split=0.2,\n",
    "    epochs=200, #200\n",
    "    batch_size=batch_size,#32\n",
    "    callbacks=callbacks,\n",
    "    #shuffle=True,\n",
    "    class_weight=weight_dict,\n",
    ")"
   ]
  },
  {
   "cell_type": "code",
   "execution_count": 70,
   "id": "2ccd8741",
   "metadata": {},
   "outputs": [
    {
     "data": {
      "image/png": "[encoded data removed]",
      "text/plain": [
       "<Figure size 640x480 with 1 Axes>"
      ]
     },
     "metadata": {},
     "output_type": "display_data"
    }
   ],
   "source": [
    "metric = [\"binary_accuracy\"]\n",
    "plt.figure()\n",
    "plt.plot(history.history[\"binary_accuracy\"])\n",
    "plt.plot(history.history[\"val_binary_accuracy\"])\n",
    "plt.title(\"model \" + \"binary_accuracy\")\n",
    "plt.xlabel(\"epoch\", fontsize=\"large\")\n",
    "plt.legend([\"train\", \"val\"], loc=\"best\")\n",
    "plt.show()\n",
    "plt.close()"
   ]
  },
  {
   "cell_type": "code",
   "execution_count": 71,
   "id": "a753ede4",
   "metadata": {},
   "outputs": [
    {
     "data": {
      "image/png": "[encoded data removed]",
      "text/plain": [
       "<Figure size 640x480 with 1 Axes>"
      ]
     },
     "metadata": {},
     "output_type": "display_data"
    }
   ],
   "source": [
    "metric = [\"loss\"]\n",
    "plt.figure()\n",
    "plt.plot(history.history[\"loss\"])\n",
    "plt.plot(history.history[\"val_loss\"])\n",
    "plt.title(\"model \" + \"loss\")\n",
    "plt.xlabel(\"epoch\", fontsize=\"large\")\n",
    "plt.legend([\"train\", \"val\"], loc=\"best\")\n",
    "plt.show()\n",
    "plt.close()"
   ]
  },
  {
   "cell_type": "code",
   "execution_count": 72,
   "id": "f887477a",
   "metadata": {},
   "outputs": [
    {
     "data": {
      "image/png": "[encoded data removed]",
      "text/plain": [
       "<Figure size 640x480 with 1 Axes>"
      ]
     },
     "metadata": {},
     "output_type": "display_data"
    }
   ],
   "source": [
    "metric = [\"tf.keras.metrics.AUC()\"]\n",
    "plt.figure()\n",
    "plt.plot(history.history[\"auc\"])\n",
    "plt.plot(history.history[\"val_auc\"])\n",
    "plt.title(\"model \" + \"auc\")\n",
    "plt.xlabel(\"epoch\", fontsize=\"large\")\n",
    "plt.legend([\"train\", \"val\"], loc=\"best\")\n",
    "plt.show()\n",
    "plt.close()"
   ]
  },
  {
   "cell_type": "code",
   "execution_count": 73,
   "id": "5e8bf564",
   "metadata": {},
   "outputs": [
    {
     "data": {
      "image/png": "[encoded data removed]",
      "text/plain": [
       "<Figure size 640x480 with 1 Axes>"
      ]
     },
     "metadata": {},
     "output_type": "display_data"
    }
   ],
   "source": [
    "metric = [\"f1_score\"]\n",
    "plt.figure()\n",
    "plt.plot(history.history[\"f1_score\"])\n",
    "plt.plot(history.history[\"val_f1_score\"])\n",
    "plt.title(\"model \" + \"f1_score\")\n",
    "plt.xlabel(\"epoch\", fontsize=\"large\")\n",
    "plt.legend([\"train\", \"val\"], loc=\"best\")\n",
    "plt.show()\n",
    "plt.close()"
   ]
  },
  {
   "cell_type": "code",
   "execution_count": 74,
   "id": "47c1da63",
   "metadata": {},
   "outputs": [
    {
     "name": "stdout",
     "output_type": "stream",
     "text": [
      "dict_keys(['loss', 'accuracy', 'binary_accuracy', 'f1_score', 'auc', 'specificity_at_sensitivity', 'sensitivity_at_specificity', 'recall', 'precision', 'val_loss', 'val_accuracy', 'val_binary_accuracy', 'val_f1_score', 'val_auc', 'val_specificity_at_sensitivity', 'val_sensitivity_at_specificity', 'val_recall', 'val_precision', 'lr'])\n"
     ]
    }
   ],
   "source": [
    "print(history.history.keys())"
   ]
  },
  {
   "cell_type": "code",
   "execution_count": 75,
   "id": "cdc17d29",
   "metadata": {},
   "outputs": [
    {
     "name": "stdout",
     "output_type": "stream",
     "text": [
      "[0.5134974122047424, 0.5741978883743286, 0.696795642375946, 0.776232898235321, 0.7854226231575012, 0.7901260852813721, 0.7938980460166931, 0.7964978814125061, 0.7985555529594421, 0.8000411987304688, 0.8009112477302551, 0.8019844889640808, 0.8035410642623901, 0.8043146729469299, 0.8054990172386169, 0.807877242565155, 0.8085641860961914, 0.8092313408851624, 0.8094568252563477, 0.809662938117981, 0.8100371956825256, 0.8109073042869568, 0.8103097677230835, 0.8109409809112549, 0.8111708164215088, 0.8109639286994934, 0.810734212398529, 0.8111081719398499, 0.8106476068496704, 0.8105640411376953, 0.8110599517822266, 0.8107374310493469, 0.8108555674552917, 0.8105387091636658, 0.8111040592193604, 0.8110724091529846, 0.8109233379364014, 0.8107432723045349, 0.8111287355422974, 0.8109908699989319, 0.8108375072479248, 0.8111995458602905, 0.811045229434967]\n"
     ]
    }
   ],
   "source": [
    "print(history.history['f1_score'])"
   ]
  },
  {
   "cell_type": "code",
   "execution_count": 76,
   "id": "5f6f887f",
   "metadata": {},
   "outputs": [],
   "source": [
    "def plot_history_metrics(history: keras.callbacks.History):\n",
    "    total_plots = len(history.history)\n",
    "    cols = total_plots // 4\n",
    "\n",
    "    rows = total_plots // cols\n",
    "\n",
    "    if total_plots % cols != 0:\n",
    "        rows += 1\n",
    "\n",
    "    pos = range(1, total_plots + 1)\n",
    "    plt.figure(figsize=(30, 20))\n",
    "    for i, (key, value) in enumerate(history.history.items()):\n",
    "        plt.subplot(rows, cols, pos[i])\n",
    "        plt.plot(range(len(value)), value)\n",
    "        plt.title(str(key))\n",
    "    plt.show()"
   ]
  },
  {
   "cell_type": "code",
   "execution_count": 77,
   "id": "7a6c47f4",
   "metadata": {},
   "outputs": [
    {
     "data": {
      "image/png": "[encoded data removed]",
      "text/plain": [
       "<Figure size 3000x2000 with 19 Axes>"
      ]
     },
     "metadata": {},
     "output_type": "display_data"
    }
   ],
   "source": [
    "#print all metrics\n",
    "plot_history_metrics(model.history)"
   ]
  },
  {
   "cell_type": "code",
   "execution_count": 78,
   "id": "77492409",
   "metadata": {},
   "outputs": [
    {
     "name": "stdout",
     "output_type": "stream",
     "text": [
      "5178/5178 [==============================] - 166s 32ms/step - loss: 0.3868 - accuracy: 0.8219 - binary_accuracy: 0.8219 - f1_score: 0.8219 - auc: 0.9059 - specificity_at_sensitivity: 0.9694 - sensitivity_at_specificity: 0.9694 - recall: 0.8219 - precision: 0.8219\n"
     ]
    },
    {
     "data": {
      "text/plain": [
       "[0.3868415355682373,\n",
       " 0.8218777775764465,\n",
       " 0.8218777775764465,\n",
       " 0.8218778371810913,\n",
       " 0.9059038758277893,\n",
       " 0.9693814516067505,\n",
       " 0.9693814516067505,\n",
       " 0.8218777775764465,\n",
       " 0.8218777775764465]"
      ]
     },
     "execution_count": 78,
     "metadata": {},
     "output_type": "execute_result"
    }
   ],
   "source": [
    "model1 = keras.models.load_model(checkpoint_path)\n",
    "\n",
    "model1.evaluate(x_test, y_test, verbose=1)"
   ]
  },
  {
   "cell_type": "code",
   "execution_count": 79,
   "id": "a65d59e5",
   "metadata": {},
   "outputs": [
    {
     "data": {
      "text/plain": [
       "(165684, 360, 1)"
      ]
     },
     "execution_count": 79,
     "metadata": {},
     "output_type": "execute_result"
    }
   ],
   "source": [
    "x_test.shape"
   ]
  },
  {
   "cell_type": "code",
   "execution_count": 80,
   "id": "088f9307",
   "metadata": {},
   "outputs": [
    {
     "name": "stdout",
     "output_type": "stream",
     "text": [
      "2589/2589 [==============================] - 157s 61ms/step - loss: 0.3868 - accuracy: 0.8219 - binary_accuracy: 0.8219 - f1_score: 0.8219 - auc: 0.9059 - specificity_at_sensitivity: 0.9694 - sensitivity_at_specificity: 0.9694 - recall: 0.8219 - precision: 0.8219\n"
     ]
    },
    {
     "data": {
      "text/plain": [
       "[0.38684192299842834,\n",
       " 0.8218777775764465,\n",
       " 0.8218777775764465,\n",
       " 0.8218778371810913,\n",
       " 0.905904233455658,\n",
       " 0.9693814516067505,\n",
       " 0.9693814516067505,\n",
       " 0.8218777775764465,\n",
       " 0.8218777775764465]"
      ]
     },
     "execution_count": 80,
     "metadata": {},
     "output_type": "execute_result"
    }
   ],
   "source": [
    "#evaluating best model\n",
    "# seems batch_size on testset does not effect test set performance\n",
    "model.evaluate(x_test, y_test, batch_size=batch_size)"
   ]
  },
  {
   "cell_type": "code",
   "execution_count": 81,
   "id": "b861db1f",
   "metadata": {},
   "outputs": [
    {
     "name": "stdout",
     "output_type": "stream",
     "text": [
      "Evaluate on test data\n",
      "2589/2589 [==============================] - 156s 60ms/step - loss: 0.3868 - accuracy: 0.8219 - binary_accuracy: 0.8219 - f1_score: 0.8219 - auc: 0.9059 - specificity_at_sensitivity: 0.9694 - sensitivity_at_specificity: 0.9694 - recall: 0.8219 - precision: 0.8219\n",
      "test loss, test acc: [0.38684192299842834, 0.8218777775764465, 0.8218777775764465, 0.8218778371810913, 0.905904233455658, 0.9693814516067505, 0.9693814516067505, 0.8218777775764465, 0.8218777775764465]\n"
     ]
    }
   ],
   "source": [
    "# Evaluate the model on the test data using `evaluate`\n",
    "print(\"Evaluate on test data\")\n",
    "results = model.evaluate(x_test, y_test, batch_size=batch_size)\n",
    "print(\"test loss, test acc:\", results)\n",
    "\n",
    "# Generate predictions (probabilities -- the output of the last layer)\n",
    "# on new data using `predict`\n",
    "#print(\"Generate predictions for 3 samples\")\n",
    "#predictions = model.predict(x_test[:3])\n",
    "#print(\"predictions shape:\", predictions.shape)"
   ]
  },
  {
   "cell_type": "code",
   "execution_count": 82,
   "id": "84d2767f",
   "metadata": {},
   "outputs": [
    {
     "name": "stdout",
     "output_type": "stream",
     "text": [
      "2589/2589 [==============================] - 146s 56ms/step\n"
     ]
    }
   ],
   "source": [
    "#generate predication to draw a confusion matrix\n",
    "predicted = model1.predict(x_test, batch_size=batch_size)\n",
    "\n",
    "predicted = tf.concat(predicted, axis=0)\n",
    "predicted = tf.argmax(predicted, axis=1)"
   ]
  },
  {
   "cell_type": "code",
   "execution_count": 83,
   "id": "fed4444b",
   "metadata": {},
   "outputs": [],
   "source": [
    "actual = tf.argmax(y_test, axis=1)"
   ]
  },
  {
   "cell_type": "code",
   "execution_count": 84,
   "id": "5159762d",
   "metadata": {},
   "outputs": [
    {
     "data": {
      "text/plain": [
       "<tf.Tensor: shape=(165684,), dtype=int64, numpy=array([1, 0, 1, ..., 1, 1, 1], dtype=int64)>"
      ]
     },
     "execution_count": 84,
     "metadata": {},
     "output_type": "execute_result"
    }
   ],
   "source": [
    "predicted"
   ]
  },
  {
   "cell_type": "code",
   "execution_count": 85,
   "id": "168a5e0a",
   "metadata": {},
   "outputs": [
    {
     "data": {
      "text/plain": [
       "<tf.Tensor: shape=(165684,), dtype=int64, numpy=array([1, 0, 0, ..., 1, 1, 0], dtype=int64)>"
      ]
     },
     "execution_count": 85,
     "metadata": {},
     "output_type": "execute_result"
    }
   ],
   "source": [
    "actual"
   ]
  },
  {
   "cell_type": "code",
   "execution_count": 86,
   "id": "d5243206",
   "metadata": {},
   "outputs": [],
   "source": [
    "labels=name_classes"
   ]
  },
  {
   "cell_type": "code",
   "execution_count": 87,
   "id": "b3c076c9",
   "metadata": {},
   "outputs": [
    {
     "data": {
      "text/plain": [
       "array([False, True], dtype=object)"
      ]
     },
     "execution_count": 87,
     "metadata": {},
     "output_type": "execute_result"
    }
   ],
   "source": [
    "labels"
   ]
  },
  {
   "cell_type": "code",
   "execution_count": 88,
   "id": "40284879",
   "metadata": {},
   "outputs": [
    {
     "name": "stdout",
     "output_type": "stream",
     "text": [
      "[[49387 17817]\n",
      " [11695 86785]]\n"
     ]
    }
   ],
   "source": [
    "from sklearn.metrics import confusion_matrix\n",
    "conf_mat = confusion_matrix(actual, predicted) \n",
    "\n",
    "print(conf_mat)"
   ]
  },
  {
   "cell_type": "code",
   "execution_count": 89,
   "id": "a96a665b",
   "metadata": {},
   "outputs": [
    {
     "data": {
      "text/plain": [
       "[Text(0, 0.5, 'False'), Text(0, 1.5, 'True')]"
      ]
     },
     "execution_count": 89,
     "metadata": {},
     "output_type": "execute_result"
    },
    {
     "data": {
      "image/png": "[encoded data removed]",
      "text/plain": [
       "<Figure size 640x480 with 2 Axes>"
      ]
     },
     "metadata": {},
     "output_type": "display_data"
    }
   ],
   "source": [
    "import seaborn as sns\n",
    "cm = tf.math.confusion_matrix(actual, predicted)\n",
    "ax = sns.heatmap(cm, annot=True, fmt='g',cmap=\"crest\")\n",
    "sns.set(rc={'figure.figsize':(12, 12)})\n",
    "sns.set(font_scale=1.4)\n",
    "ax.set_title('Confusion Matrix for Test set')\n",
    "ax.set_xlabel('Predicted Event')\n",
    "ax.set_ylabel('Actual Event')\n",
    "plt.xticks(rotation=90)\n",
    "plt.yticks(rotation=0)\n",
    "ax.xaxis.set_ticklabels(labels)\n",
    "ax.yaxis.set_ticklabels(labels)"
   ]
  },
  {
   "cell_type": "code",
   "execution_count": 90,
   "id": "39bf9d7d",
   "metadata": {},
   "outputs": [
    {
     "data": {
      "text/plain": [
       "array([[0., 1.],\n",
       "       [1., 0.],\n",
       "       [1., 0.],\n",
       "       ...,\n",
       "       [0., 1.],\n",
       "       [0., 1.],\n",
       "       [1., 0.]], dtype=float32)"
      ]
     },
     "execution_count": 90,
     "metadata": {},
     "output_type": "execute_result"
    }
   ],
   "source": [
    "y_test"
   ]
  },
  {
   "cell_type": "code",
   "execution_count": 91,
   "id": "1f814d1f",
   "metadata": {},
   "outputs": [
    {
     "name": "stdout",
     "output_type": "stream",
     "text": [
      "5178/5178 [==============================] - 151s 29ms/step\n",
      "              precision    recall  f1-score   support\n",
      "\n",
      "           0       0.81      0.73      0.77     67204\n",
      "           1       0.83      0.88      0.85     98480\n",
      "\n",
      "    accuracy                           0.82    165684\n",
      "   macro avg       0.82      0.81      0.81    165684\n",
      "weighted avg       0.82      0.82      0.82    165684\n",
      "\n"
     ]
    },
    {
     "data": {
      "image/png": "[encoded data removed]",
      "text/plain": [
       "<Figure size 1000x1000 with 1 Axes>"
      ]
     },
     "metadata": {},
     "output_type": "display_data"
    }
   ],
   "source": [
    "from sklearn.metrics import roc_curve, auc\n",
    "from sklearn.metrics import classification_report\n",
    "\n",
    "plt.figure(figsize=(10, 10))\n",
    "plt.plot([0, 1], [0, 1], 'k--')\n",
    "\n",
    "\n",
    "y_pred = model.predict(x_test)\n",
    "fpr, tpr, threshold = roc_curve(y_test.ravel(), y_pred.ravel())\n",
    "y_pred = np.argmax(y_pred, axis=1)\n",
    "print(classification_report(tf.argmax(y_test, axis=1), y_pred))\n",
    "plt.plot(fpr, tpr, label='{}, AUC = {:.3f}'.format(\"model_4_SpO2_AE_360\", auc(fpr, tpr)))\n",
    "plt.xlabel('False positive rate')\n",
    "plt.ylabel('True positive rate')\n",
    "plt.title('ROC curve')\n",
    "plt.legend();"
   ]
  },
  {
   "cell_type": "code",
   "execution_count": 92,
   "id": "0b429c99",
   "metadata": {},
   "outputs": [],
   "source": [
    "actual = tf.argmax(y_test, axis=1)"
   ]
  },
  {
   "cell_type": "code",
   "execution_count": 93,
   "id": "3dc06f84",
   "metadata": {},
   "outputs": [
    {
     "data": {
      "text/plain": [
       "<tf.Tensor: shape=(165684,), dtype=int64, numpy=array([1, 0, 1, ..., 1, 1, 1], dtype=int64)>"
      ]
     },
     "execution_count": 93,
     "metadata": {},
     "output_type": "execute_result"
    }
   ],
   "source": [
    "predicted"
   ]
  },
  {
   "cell_type": "code",
   "execution_count": 94,
   "id": "df6b7834",
   "metadata": {},
   "outputs": [
    {
     "data": {
      "text/plain": [
       "<tf.Tensor: shape=(165684,), dtype=int64, numpy=array([1, 0, 0, ..., 1, 1, 0], dtype=int64)>"
      ]
     },
     "execution_count": 94,
     "metadata": {},
     "output_type": "execute_result"
    }
   ],
   "source": [
    "actual\n"
   ]
  },
  {
   "cell_type": "code",
   "execution_count": 95,
   "id": "88333da5",
   "metadata": {},
   "outputs": [],
   "source": [
    "labels=name_classes"
   ]
  },
  {
   "cell_type": "code",
   "execution_count": 96,
   "id": "4ccd3b1a",
   "metadata": {},
   "outputs": [
    {
     "data": {
      "text/plain": [
       "[Text(0, 0.5, 'False'), Text(0, 1.5, 'True')]"
      ]
     },
     "execution_count": 96,
     "metadata": {},
     "output_type": "execute_result"
    },
    {
     "data": {
      "image/png": "[encoded data removed]",
      "text/plain": [
       "<Figure size 1200x1200 with 2 Axes>"
      ]
     },
     "metadata": {},
     "output_type": "display_data"
    }
   ],
   "source": [
    "import seaborn as sns\n",
    "cm = tf.math.confusion_matrix(actual, predicted)\n",
    "ax = sns.heatmap(cm, annot=True, fmt='g',cmap=\"crest\")\n",
    "sns.set(rc={'figure.figsize':(10, 10)})\n",
    "sns.set(font_scale=1.4)\n",
    "ax.set_title('Confusion Matrix for Test set')\n",
    "ax.set_xlabel('Predicted Event')\n",
    "ax.set_ylabel('Actual Event')\n",
    "plt.xticks(rotation=90)\n",
    "plt.yticks(rotation=0)\n",
    "ax.xaxis.set_ticklabels(labels)\n",
    "ax.yaxis.set_ticklabels(labels)"
   ]
  },
  {
   "cell_type": "code",
   "execution_count": 97,
   "id": "f5ce9d9c",
   "metadata": {},
   "outputs": [
    {
     "name": "stdout",
     "output_type": "stream",
     "text": [
      "[name: \"/device:CPU:0\"\n",
      "device_type: \"CPU\"\n",
      "memory_limit: 268435456\n",
      "locality {\n",
      "}\n",
      "incarnation: 1043336917639788063\n",
      "xla_global_id: -1\n",
      ", name: \"/device:GPU:0\"\n",
      "device_type: \"GPU\"\n",
      "memory_limit: 5711593472\n",
      "locality {\n",
      "  bus_id: 1\n",
      "  links {\n",
      "  }\n",
      "}\n",
      "incarnation: 10429499483389563602\n",
      "physical_device_desc: \"device: 0, name: NVIDIA GeForce RTX 3080 Laptop GPU, pci bus id: 0000:01:00.0, compute capability: 8.6\"\n",
      "xla_global_id: 416903419\n",
      "]\n"
     ]
    }
   ],
   "source": [
    "#list all CPUs and GPUs\n",
    "from tensorflow.python.client import device_lib\n",
    "\n",
    "print(device_lib.list_local_devices())"
   ]
  },
  {
   "cell_type": "code",
   "execution_count": 98,
   "id": "b3786ad8",
   "metadata": {},
   "outputs": [],
   "source": [
    "from sklearn.metrics import balanced_accuracy_score #this a reverse of the model accuracy, because we alredy weighted the dataset\n",
    "bal_acc=balanced_accuracy_score(actual, predicted) #if you train the model without weighted considration, you can use this metric"
   ]
  },
  {
   "cell_type": "code",
   "execution_count": 99,
   "id": "5179cbba",
   "metadata": {},
   "outputs": [
    {
     "data": {
      "text/plain": [
       "0.8080633875488341"
      ]
     },
     "execution_count": 99,
     "metadata": {},
     "output_type": "execute_result"
    }
   ],
   "source": [
    "bal_acc"
   ]
  },
  {
   "cell_type": "markdown",
   "id": "371fb5a7",
   "metadata": {},
   "source": [
    "Indevidual Patient"
   ]
  },
  {
   "cell_type": "code",
   "execution_count": 100,
   "id": "70454749",
   "metadata": {},
   "outputs": [
    {
     "data": {
      "text/html": [
       "<div>\n",
       "<style scoped>\n",
       "    .dataframe tbody tr th:only-of-type {\n",
       "        vertical-align: middle;\n",
       "    }\n",
       "\n",
       "    .dataframe tbody tr th {\n",
       "        vertical-align: top;\n",
       "    }\n",
       "\n",
       "    .dataframe thead th {\n",
       "        text-align: right;\n",
       "    }\n",
       "</style>\n",
       "<table border=\"1\" class=\"dataframe\">\n",
       "  <thead>\n",
       "    <tr style=\"text-align: right;\">\n",
       "      <th></th>\n",
       "      <th>patient</th>\n",
       "      <th>timestamp_datetime</th>\n",
       "      <th>SpO2(%)</th>\n",
       "      <th>signal_ecg_ii</th>\n",
       "      <th>event</th>\n",
       "      <th>anomaly</th>\n",
       "    </tr>\n",
       "  </thead>\n",
       "  <tbody>\n",
       "    <tr>\n",
       "      <th>0</th>\n",
       "      <td>1</td>\n",
       "      <td>2019-07-29 21:00:36</td>\n",
       "      <td>NaN</td>\n",
       "      <td>[122, 121, 121, 120, 120, 122, 123, 124, 125, ...</td>\n",
       "      <td>NONE</td>\n",
       "      <td>False</td>\n",
       "    </tr>\n",
       "    <tr>\n",
       "      <th>1</th>\n",
       "      <td>1</td>\n",
       "      <td>2019-07-29 21:00:37</td>\n",
       "      <td>NaN</td>\n",
       "      <td>[123, 124, 123, 123, 123, 122, 123, 123, 123, ...</td>\n",
       "      <td>NONE</td>\n",
       "      <td>False</td>\n",
       "    </tr>\n",
       "    <tr>\n",
       "      <th>2</th>\n",
       "      <td>1</td>\n",
       "      <td>2019-07-29 21:00:38</td>\n",
       "      <td>NaN</td>\n",
       "      <td>[123, 124, 124, 124, 124, 124, 124, 124, 124, ...</td>\n",
       "      <td>NONE</td>\n",
       "      <td>False</td>\n",
       "    </tr>\n",
       "    <tr>\n",
       "      <th>3</th>\n",
       "      <td>1</td>\n",
       "      <td>2019-07-29 21:00:39</td>\n",
       "      <td>NaN</td>\n",
       "      <td>[126, 126, 126, 126, 126, 125, 126, 126, 126, ...</td>\n",
       "      <td>NONE</td>\n",
       "      <td>False</td>\n",
       "    </tr>\n",
       "    <tr>\n",
       "      <th>4</th>\n",
       "      <td>1</td>\n",
       "      <td>2019-07-29 21:00:40</td>\n",
       "      <td>NaN</td>\n",
       "      <td>[128, 127, 126, 125, 126, 127, 126, 125, 125, ...</td>\n",
       "      <td>NONE</td>\n",
       "      <td>False</td>\n",
       "    </tr>\n",
       "  </tbody>\n",
       "</table>\n",
       "</div>"
      ],
      "text/plain": [
       "  patient  timestamp_datetime  SpO2(%)  \\\n",
       "0       1 2019-07-29 21:00:36      NaN   \n",
       "1       1 2019-07-29 21:00:37      NaN   \n",
       "2       1 2019-07-29 21:00:38      NaN   \n",
       "3       1 2019-07-29 21:00:39      NaN   \n",
       "4       1 2019-07-29 21:00:40      NaN   \n",
       "\n",
       "                                       signal_ecg_ii event  anomaly  \n",
       "0  [122, 121, 121, 120, 120, 122, 123, 124, 125, ...  NONE    False  \n",
       "1  [123, 124, 123, 123, 123, 122, 123, 123, 123, ...  NONE    False  \n",
       "2  [123, 124, 124, 124, 124, 124, 124, 124, 124, ...  NONE    False  \n",
       "3  [126, 126, 126, 126, 126, 125, 126, 126, 126, ...  NONE    False  \n",
       "4  [128, 127, 126, 125, 126, 127, 126, 125, 125, ...  NONE    False  "
      ]
     },
     "metadata": {},
     "output_type": "display_data"
    },
    {
     "data": {
      "text/plain": [
       "patient                       object\n",
       "timestamp_datetime    datetime64[ns]\n",
       "SpO2(%)                      float64\n",
       "signal_ecg_ii                 object\n",
       "event                         object\n",
       "anomaly                      boolean\n",
       "dtype: object"
      ]
     },
     "metadata": {},
     "output_type": "display_data"
    }
   ],
   "source": [
    "import pickle\n",
    "\n",
    "#path = \"C:\\\\Users\\\\MalakAlmarshad\\\\Desktop\\\\premirly dataset for experiment\\\\ICUecgtiny.pkl\"#for part of the dataset\n",
    "\n",
    "path = \"C:\\\\Users\\\\MalakAlmarshad\\\\Desktop\\\\premirly dataset for experiment\\\\ICUecgAll.pkl\"\n",
    "\n",
    "\n",
    "\n",
    "# Loading the dataset\n",
    "with open(path, 'rb') as file:\n",
    "    dataset = pickle.load(file)\n",
    "    \n",
    "display(dataset.head())\n",
    "\n",
    "display(dataset.dtypes)"
   ]
  },
  {
   "cell_type": "code",
   "execution_count": 1218,
   "id": "9a683b92",
   "metadata": {},
   "outputs": [
    {
     "name": "stdout",
     "output_type": "stream",
     "text": [
      "      patient  timestamp_datetime  SpO2(%)  \\\n",
      "0           1 2019-07-29 21:00:36      NaN   \n",
      "1           1 2019-07-29 21:00:37      NaN   \n",
      "2           1 2019-07-29 21:00:38      NaN   \n",
      "3           1 2019-07-29 21:00:39      NaN   \n",
      "4           1 2019-07-29 21:00:40      NaN   \n",
      "...       ...                 ...      ...   \n",
      "25173       1 2019-07-30 04:00:09     98.0   \n",
      "25174       1 2019-07-30 04:00:10     98.0   \n",
      "25175       1 2019-07-30 04:00:11     98.0   \n",
      "25176       1 2019-07-30 04:00:12     98.0   \n",
      "25177       1 2019-07-30 04:00:13     98.0   \n",
      "\n",
      "                                           signal_ecg_ii event  anomaly  \n",
      "0      [122, 121, 121, 120, 120, 122, 123, 124, 125, ...  NONE    False  \n",
      "1      [123, 124, 123, 123, 123, 122, 123, 123, 123, ...  NONE    False  \n",
      "2      [123, 124, 124, 124, 124, 124, 124, 124, 124, ...  NONE    False  \n",
      "3      [126, 126, 126, 126, 126, 125, 126, 126, 126, ...  NONE    False  \n",
      "4      [128, 127, 126, 125, 126, 127, 126, 125, 125, ...  NONE    False  \n",
      "...                                                  ...   ...      ...  \n",
      "25173  [124, 123, 123, 123, 123, 124, 124, 125, 125, ...  NONE    False  \n",
      "25174  [127, 126, 124, 123, 126, 126, 127, 129, 132, ...  NONE    False  \n",
      "25175  [122, 122, 120, 122, 146, 180, 157, 121, 112, ...  NONE    False  \n",
      "25176  [125, 126, 128, 129, 131, 132, 129, 127, 126, ...  NONE    False  \n",
      "25177  [122, 123, 123, 122, 123, 123, 121, 123, 122, ...  NONE    False  \n",
      "\n",
      "[25178 rows x 6 columns]\n"
     ]
    }
   ],
   "source": [
    "# condition mask\n",
    "mask = dataframe['patient'] == \"1\"\n",
    " \n",
    "# new dataframe with selected rows\n",
    "df_15 = dataframe[mask]\n",
    " \n",
    "\n",
    "print(df_15)"
   ]
  },
  {
   "cell_type": "code",
   "execution_count": 1219,
   "id": "16e635fb",
   "metadata": {},
   "outputs": [],
   "source": [
    "df_15=df_15.dropna()"
   ]
  },
  {
   "cell_type": "code",
   "execution_count": 1220,
   "id": "373beaee",
   "metadata": {},
   "outputs": [],
   "source": [
    "df_15=df_15[['SpO2(%)', 'anomaly']]"
   ]
  },
  {
   "cell_type": "code",
   "execution_count": 1221,
   "id": "c12189c5",
   "metadata": {},
   "outputs": [],
   "source": [
    "x_15 = df_15[['SpO2(%)']]\n",
    "min_max_scaler_15 = preprocessing.MinMaxScaler()\n",
    "x_scaled_15 = min_max_scaler_15.fit_transform(x_15)\n",
    "dataset_15 = x_scaled_15\n",
    "\n",
    "df_15['SpO2(%)']=dataset_15"
   ]
  },
  {
   "cell_type": "code",
   "execution_count": 1222,
   "id": "57270c24",
   "metadata": {},
   "outputs": [],
   "source": [
    "#Defining features (x) and labels (y)\n",
    "targets_15 = df_15[\"anomaly\"]\n",
    "input_data_15 = df_15[\"SpO2(%)\"]"
   ]
  },
  {
   "cell_type": "code",
   "execution_count": 1223,
   "id": "82ba2933",
   "metadata": {},
   "outputs": [],
   "source": [
    "#Encode categorical features as a one-hot numeric array.\n",
    "le_15 = preprocessing.LabelEncoder()  # Generates a look-up table\n",
    "le_15.fit(targets_15)\n",
    "targets_15 = le_15.transform(targets_15)"
   ]
  },
  {
   "cell_type": "code",
   "execution_count": 1224,
   "id": "5ae0007b",
   "metadata": {},
   "outputs": [
    {
     "name": "stderr",
     "output_type": "stream",
     "text": [
      "C:\\Users\\MalakAlmarshad\\AppData\\Local\\Temp\\ipykernel_22128\\948889072.py:4: FutureWarning: The behavior of `series[i:j]` with an integer-dtype index is deprecated. In a future version, this will be treated as *label-based* indexing, consistent with e.g. `series[i]` lookups. To retain the old behavior, use `series.iloc[i:j]`. To get the future behavior, use `series.loc[i:j]`.\n",
      "  output.append(values[i : (i + time_steps)])\n"
     ]
    }
   ],
   "source": [
    "x_seq_15=create_sequences(input_data_15)"
   ]
  },
  {
   "cell_type": "code",
   "execution_count": 1225,
   "id": "b5066542",
   "metadata": {},
   "outputs": [],
   "source": [
    "y_seq_15=create_sequences(targets_15)"
   ]
  },
  {
   "cell_type": "code",
   "execution_count": 1226,
   "id": "dd20dac8",
   "metadata": {},
   "outputs": [],
   "source": [
    "x_seq_15 = x_seq_15.reshape((x_seq_15.shape[0], x_seq_15.shape[1], 1))"
   ]
  },
  {
   "cell_type": "code",
   "execution_count": 1227,
   "id": "b49210bc",
   "metadata": {},
   "outputs": [
    {
     "name": "stdout",
     "output_type": "stream",
     "text": [
      "[0 0 0 ... 1 1 1]\n"
     ]
    }
   ],
   "source": [
    "df1_15 = (y_seq_15 != 0).any(1).astype(int)\n",
    "print (df1_15)"
   ]
  },
  {
   "cell_type": "code",
   "execution_count": 1228,
   "id": "fa611a75",
   "metadata": {},
   "outputs": [],
   "source": [
    "y_seq_15=df1_15"
   ]
  },
  {
   "cell_type": "code",
   "execution_count": 1229,
   "id": "db614023",
   "metadata": {},
   "outputs": [],
   "source": [
    "y_seq_15=np.asarray(y_seq_15).astype(np.float32).reshape(-1, 1)"
   ]
  },
  {
   "cell_type": "code",
   "execution_count": 1230,
   "id": "c5cb4052",
   "metadata": {},
   "outputs": [],
   "source": [
    "y_seq_15 = keras.utils.to_categorical(y_seq_15)"
   ]
  },
  {
   "cell_type": "code",
   "execution_count": 1231,
   "id": "ba4bf070",
   "metadata": {},
   "outputs": [
    {
     "name": "stdout",
     "output_type": "stream",
     "text": [
      "711/711 [==============================] - 20s 29ms/step - loss: 0.2757 - accuracy: 0.9052 - binary_accuracy: 0.9052 - f1_score: 0.9052 - auc: 0.9666 - specificity_at_sensitivity: 0.9927 - sensitivity_at_specificity: 0.9927 - recall: 0.9052 - precision: 0.9052\n"
     ]
    },
    {
     "data": {
      "text/plain": [
       "[0.2756792902946472,\n",
       " 0.9051579833030701,\n",
       " 0.9051579833030701,\n",
       " 0.9051579833030701,\n",
       " 0.9665770530700684,\n",
       " 0.9927383065223694,\n",
       " 0.9927383065223694,\n",
       " 0.9051579833030701,\n",
       " 0.9051579833030701]"
      ]
     },
     "execution_count": 1231,
     "metadata": {},
     "output_type": "execute_result"
    }
   ],
   "source": [
    "#patient # 15\n",
    "\n",
    "\n",
    "model1.evaluate(x_seq_15, y_seq_15, verbose=1)"
   ]
  },
  {
   "cell_type": "code",
   "execution_count": 1232,
   "id": "2f219a59",
   "metadata": {},
   "outputs": [
    {
     "name": "stdout",
     "output_type": "stream",
     "text": [
      "356/356 [==============================] - 18s 51ms/step - loss: 0.2757 - accuracy: 0.9052 - binary_accuracy: 0.9052 - f1_score: 0.9052 - auc: 0.9666 - specificity_at_sensitivity: 0.9927 - sensitivity_at_specificity: 0.9927 - recall: 0.9052 - precision: 0.9052\n"
     ]
    },
    {
     "data": {
      "text/plain": [
       "[0.27567824721336365,\n",
       " 0.9051579833030701,\n",
       " 0.9051579833030701,\n",
       " 0.9051579833030701,\n",
       " 0.966576337814331,\n",
       " 0.9927383065223694,\n",
       " 0.9927383065223694,\n",
       " 0.9051579833030701,\n",
       " 0.9051579833030701]"
      ]
     },
     "execution_count": 1232,
     "metadata": {},
     "output_type": "execute_result"
    }
   ],
   "source": [
    "model.evaluate(x_seq_15,y_seq_15, batch_size=batch_size)"
   ]
  },
  {
   "cell_type": "code",
   "execution_count": 1233,
   "id": "bf797474",
   "metadata": {},
   "outputs": [
    {
     "name": "stdout",
     "output_type": "stream",
     "text": [
      "356/356 [==============================] - 17s 47ms/step\n"
     ]
    }
   ],
   "source": [
    "#generate predication to draw a confusion matrix\n",
    "predicted_15 = model.predict(x_seq_15, batch_size=batch_size)\n",
    "\n",
    "predicted_15 = tf.concat(predicted_15, axis=0)\n",
    "predicted_15 = tf.argmax(predicted_15, axis=1)"
   ]
  },
  {
   "cell_type": "code",
   "execution_count": 1234,
   "id": "5ccccbfe",
   "metadata": {},
   "outputs": [],
   "source": [
    "actual_15 = tf.argmax(y_seq_15, axis=1)"
   ]
  },
  {
   "cell_type": "code",
   "execution_count": 1235,
   "id": "c1f0e071",
   "metadata": {},
   "outputs": [
    {
     "name": "stdout",
     "output_type": "stream",
     "text": [
      "[[ 1469   973]\n",
      " [ 1182 19098]]\n"
     ]
    }
   ],
   "source": [
    "from sklearn.metrics import confusion_matrix\n",
    "conf_mat_15 = confusion_matrix(actual_15, predicted_15) \n",
    "\n",
    "print(conf_mat_15)"
   ]
  },
  {
   "cell_type": "code",
   "execution_count": 1236,
   "id": "36f5789c",
   "metadata": {},
   "outputs": [
    {
     "data": {
      "text/plain": [
       "[Text(0, 0.5, 'GT'), Text(0, 1.5, 'PD')]"
      ]
     },
     "execution_count": 1236,
     "metadata": {},
     "output_type": "execute_result"
    },
    {
     "data": {
      "image/png": "[encoded data removed]",
      "text/plain": [
       "<Figure size 1200x1200 with 2 Axes>"
      ]
     },
     "metadata": {},
     "output_type": "display_data"
    }
   ],
   "source": [
    "import seaborn as sns\n",
    "cm_15 = tf.math.confusion_matrix(actual_15, predicted_15)\n",
    "ax = sns.heatmap(cm_15, annot=True, fmt='g',cmap=\"crest\")\n",
    "sns.set(rc={'figure.figsize':(12, 12)})\n",
    "sns.set(font_scale=1.4)\n",
    "ax.set_title('Confusion Matrix for 15')\n",
    "ax.set_xlabel('Predicted Event')\n",
    "ax.set_ylabel('Actual Event')\n",
    "plt.xticks(rotation=90)\n",
    "plt.yticks(rotation=0)\n",
    "ax.xaxis.set_ticklabels(labels)\n",
    "ax.yaxis.set_ticklabels(labels)"
   ]
  },
  {
   "cell_type": "code",
   "execution_count": null,
   "id": "f7548e84",
   "metadata": {},
   "outputs": [],
   "source": []
  },
  {
   "cell_type": "code",
   "execution_count": 1237,
   "id": "6fdace62",
   "metadata": {},
   "outputs": [
    {
     "data": {
      "text/plain": [
       "TensorShape([22722])"
      ]
     },
     "execution_count": 1237,
     "metadata": {},
     "output_type": "execute_result"
    }
   ],
   "source": [
    "actual_15.shape"
   ]
  },
  {
   "cell_type": "code",
   "execution_count": 1238,
   "id": "95a85d4d",
   "metadata": {},
   "outputs": [
    {
     "data": {
      "text/plain": [
       "<tf.Tensor: shape=(22722,), dtype=int64, numpy=array([0, 0, 0, ..., 1, 1, 1], dtype=int64)>"
      ]
     },
     "execution_count": 1238,
     "metadata": {},
     "output_type": "execute_result"
    }
   ],
   "source": [
    "actual_15"
   ]
  },
  {
   "cell_type": "code",
   "execution_count": 1239,
   "id": "ef664800",
   "metadata": {},
   "outputs": [
    {
     "name": "stdout",
     "output_type": "stream",
     "text": [
      "tf.Tensor([0 0 0 ... 1 1 1], shape=(22722,), dtype=int64)\n"
     ]
    }
   ],
   "source": [
    "print(actual_15)"
   ]
  },
  {
   "cell_type": "code",
   "execution_count": 1240,
   "id": "e9d07000",
   "metadata": {},
   "outputs": [],
   "source": [
    "time_steps_vis=2880 #resoultion of event plot\n",
    "\n",
    "def create_sequences_vis(values, time_steps=time_steps_vis):\n",
    "    output = []\n",
    "    for i in range(len(values) - time_steps + 1):\n",
    "        output.append(values[i : (i + time_steps)])\n",
    "    return np.stack(output)"
   ]
  },
  {
   "cell_type": "code",
   "execution_count": 1241,
   "id": "17c6fdad",
   "metadata": {},
   "outputs": [],
   "source": [
    "actual_15v2=actual_15\n",
    "predicted_15v2=predicted_15"
   ]
  },
  {
   "cell_type": "code",
   "execution_count": 1242,
   "id": "1b999bfc",
   "metadata": {},
   "outputs": [],
   "source": [
    "actual_15v2=create_sequences_vis(actual_15)\n",
    "predicted_15v2=create_sequences_vis(predicted_15)"
   ]
  },
  {
   "cell_type": "code",
   "execution_count": 1243,
   "id": "40db9796",
   "metadata": {},
   "outputs": [
    {
     "data": {
      "text/plain": [
       "array([[0, 0, 0, ..., 1, 1, 1],\n",
       "       [0, 0, 0, ..., 1, 1, 1],\n",
       "       [0, 0, 0, ..., 1, 1, 1],\n",
       "       ...,\n",
       "       [1, 1, 1, ..., 1, 1, 1],\n",
       "       [1, 1, 1, ..., 1, 1, 1],\n",
       "       [1, 1, 1, ..., 1, 1, 1]], dtype=int64)"
      ]
     },
     "execution_count": 1243,
     "metadata": {},
     "output_type": "execute_result"
    }
   ],
   "source": [
    "actual_15v2"
   ]
  },
  {
   "cell_type": "code",
   "execution_count": 1244,
   "id": "dc677231",
   "metadata": {},
   "outputs": [],
   "source": [
    "# unique, counts = np.unique(actual_15v2, return_counts=True)\n",
    "# unique1, counts1 = np.unique(minvalue_series, return_counts=True)"
   ]
  },
  {
   "cell_type": "code",
   "execution_count": 1245,
   "id": "fb879357",
   "metadata": {},
   "outputs": [],
   "source": [
    "\n",
    "# dict(zip(unique, counts))"
   ]
  },
  {
   "cell_type": "code",
   "execution_count": 1246,
   "id": "cab0d074",
   "metadata": {},
   "outputs": [],
   "source": [
    "# dict(zip(unique1, counts1))"
   ]
  },
  {
   "cell_type": "code",
   "execution_count": 1247,
   "id": "cc75503a",
   "metadata": {},
   "outputs": [],
   "source": [
    "minvalue_series_actual_15v2 = actual_15v2.min(axis = 1)\n",
    "minvalue_series_predicted_15v2=predicted_15v2.min(axis = 1)"
   ]
  },
  {
   "cell_type": "code",
   "execution_count": 1248,
   "id": "60f4a2af",
   "metadata": {},
   "outputs": [
    {
     "data": {
      "text/plain": [
       "0"
      ]
     },
     "execution_count": 1248,
     "metadata": {},
     "output_type": "execute_result"
    }
   ],
   "source": [
    "minvalue_series_actual_15v2.min()"
   ]
  },
  {
   "cell_type": "code",
   "execution_count": 1249,
   "id": "074398ff",
   "metadata": {},
   "outputs": [
    {
     "data": {
      "text/plain": [
       "0"
      ]
     },
     "execution_count": 1249,
     "metadata": {},
     "output_type": "execute_result"
    }
   ],
   "source": [
    "minvalue_series_predicted_15v2.min()"
   ]
  },
  {
   "cell_type": "code",
   "execution_count": 1250,
   "id": "2feffc23",
   "metadata": {},
   "outputs": [
    {
     "data": {
      "text/plain": [
       "array([0, 0, 0, ..., 0, 0, 0], dtype=int64)"
      ]
     },
     "execution_count": 1250,
     "metadata": {},
     "output_type": "execute_result"
    }
   ],
   "source": [
    "minvalue_series_actual_15v2"
   ]
  },
  {
   "cell_type": "code",
   "execution_count": 1251,
   "id": "0db8f90a",
   "metadata": {},
   "outputs": [
    {
     "data": {
      "text/plain": [
       "array([0, 0, 0, ..., 0, 0, 0], dtype=int64)"
      ]
     },
     "execution_count": 1251,
     "metadata": {},
     "output_type": "execute_result"
    }
   ],
   "source": [
    "minvalue_series_predicted_15v2"
   ]
  },
  {
   "cell_type": "code",
   "execution_count": 1252,
   "id": "bbec3c7e",
   "metadata": {},
   "outputs": [],
   "source": [
    "# arr =actual_15v2\n",
    "# parr=predicted_15v2"
   ]
  },
  {
   "cell_type": "code",
   "execution_count": null,
   "id": "9df815a7",
   "metadata": {},
   "outputs": [],
   "source": []
  },
  {
   "cell_type": "code",
   "execution_count": 1253,
   "id": "dccd579c",
   "metadata": {},
   "outputs": [],
   "source": [
    "# print( arr[1:] )\n",
    "# print(parr[1:])"
   ]
  },
  {
   "cell_type": "code",
   "execution_count": 1254,
   "id": "89302fb1",
   "metadata": {},
   "outputs": [],
   "source": [
    "# print( arr[:-1] )\n",
    "# print( parr[:-1] )"
   ]
  },
  {
   "cell_type": "code",
   "execution_count": 1255,
   "id": "35132571",
   "metadata": {},
   "outputs": [],
   "source": [
    "# print( arr[1:] != arr[:-1] )"
   ]
  },
  {
   "cell_type": "code",
   "execution_count": 1256,
   "id": "f041f197",
   "metadata": {},
   "outputs": [],
   "source": [
    "# arr2= arr[1:] != arr[:-1]\n",
    "# parr2= parr[1:] != parr[:-1]"
   ]
  },
  {
   "cell_type": "code",
   "execution_count": 1257,
   "id": "6b59d9a7",
   "metadata": {},
   "outputs": [],
   "source": [
    "# out = np.where(arr2==True)[0] + 1\n",
    "# print( out )\n",
    "# pout = np.where(parr2==True)[0] + 1\n",
    "# print( pout )"
   ]
  },
  {
   "cell_type": "code",
   "execution_count": 1258,
   "id": "e0e3e000",
   "metadata": {},
   "outputs": [],
   "source": [
    "# actualD=np.zeros_like(arr2)\n",
    "# predictedD=np.zeros_like(parr2)"
   ]
  },
  {
   "cell_type": "code",
   "execution_count": 1259,
   "id": "c23b23fd",
   "metadata": {},
   "outputs": [],
   "source": [
    "#actualD[1667]"
   ]
  },
  {
   "cell_type": "code",
   "execution_count": 1260,
   "id": "62332ec8",
   "metadata": {},
   "outputs": [],
   "source": [
    "# actualD[out]=1\n",
    "# predictedD[pout]=1"
   ]
  },
  {
   "cell_type": "code",
   "execution_count": 1261,
   "id": "af9ee2e1",
   "metadata": {},
   "outputs": [],
   "source": [
    "# spike_15=actualD[:].numpy()\n",
    "# spike2_15=predicted_15[:].numpy()\n",
    "\n",
    "# spiky_15=tf.where(spike_15).numpy().tolist()\n",
    "# spiky2_15=tf.where(spike2_15).numpy().tolist()\n",
    "\n"
   ]
  },
  {
   "cell_type": "code",
   "execution_count": 1262,
   "id": "7f71588e",
   "metadata": {},
   "outputs": [
    {
     "data": {
      "text/plain": [
       "<tf.Tensor: shape=(22722,), dtype=int64, numpy=array([1, 1, 1, ..., 1, 1, 1], dtype=int64)>"
      ]
     },
     "execution_count": 1262,
     "metadata": {},
     "output_type": "execute_result"
    }
   ],
   "source": [
    "predicted_15"
   ]
  },
  {
   "cell_type": "code",
   "execution_count": 1263,
   "id": "5daa91c1",
   "metadata": {},
   "outputs": [
    {
     "data": {
      "text/plain": [
       "array([[False, False, False, ..., False, False, False],\n",
       "       [False, False, False, ..., False, False, False],\n",
       "       [False, False, False, ..., False, False, False],\n",
       "       ...,\n",
       "       [False, False, False, ..., False, False, False],\n",
       "       [False, False, False, ..., False, False, False],\n",
       "       [False, False, False, ..., False, False, False]])"
      ]
     },
     "execution_count": 1263,
     "metadata": {},
     "output_type": "execute_result"
    }
   ],
   "source": [
    "actualD"
   ]
  },
  {
   "cell_type": "code",
   "execution_count": 1264,
   "id": "2c473fdf",
   "metadata": {},
   "outputs": [
    {
     "data": {
      "text/plain": [
       "array([0, 0, 0, ..., 0, 0, 0], dtype=int64)"
      ]
     },
     "execution_count": 1264,
     "metadata": {},
     "output_type": "execute_result"
    }
   ],
   "source": [
    "minvalue_series_actual_15v2"
   ]
  },
  {
   "cell_type": "code",
   "execution_count": 1265,
   "id": "dcd12bde",
   "metadata": {},
   "outputs": [],
   "source": [
    "spike_15=minvalue_series_actual_15v2\n",
    "spike2_15=minvalue_series_predicted_15v2\n",
    "\n",
    "spike_15=tf.where(spike_15).numpy().tolist()\n",
    "spike2_15=tf.where(spike2_15).numpy().tolist()"
   ]
  },
  {
   "cell_type": "code",
   "execution_count": 1266,
   "id": "a1e7a691",
   "metadata": {},
   "outputs": [],
   "source": [
    "# spike_15=actual_15[:].numpy()\n",
    "# spike2_15=predicted_15[:].numpy()\n",
    "\n",
    "# spiky_15=tf.where(spike_15).numpy().tolist()\n",
    "# spiky2_15=tf.where(spike2_15).numpy().tolist()\n",
    "\n"
   ]
  },
  {
   "cell_type": "code",
   "execution_count": 1267,
   "id": "ddae90f5",
   "metadata": {},
   "outputs": [],
   "source": [
    "# spiky_15"
   ]
  },
  {
   "cell_type": "code",
   "execution_count": 1268,
   "id": "4164576b",
   "metadata": {},
   "outputs": [],
   "source": [
    "flat_list_15 = [item for sublist in spike_15 for item in sublist]\n",
    "spike_15 =flat_list_15\n",
    "flat_list2_15 = [item for sublist in spike2_15 for item in sublist]\n",
    "spike2_15 =flat_list2_15"
   ]
  },
  {
   "cell_type": "code",
   "execution_count": 1269,
   "id": "a7229186",
   "metadata": {},
   "outputs": [
    {
     "data": {
      "text/plain": [
       "[738,\n",
       " 739,\n",
       " 740,\n",
       " 741,\n",
       " 742,\n",
       " 743,\n",
       " 744,\n",
       " 745,\n",
       " 746,\n",
       " 747,\n",
       " 748,\n",
       " 749,\n",
       " 750,\n",
       " 751,\n",
       " 752,\n",
       " 753,\n",
       " 754,\n",
       " 755,\n",
       " 756,\n",
       " 757,\n",
       " 758,\n",
       " 759,\n",
       " 760,\n",
       " 761,\n",
       " 762,\n",
       " 763,\n",
       " 764,\n",
       " 765,\n",
       " 766,\n",
       " 767,\n",
       " 768,\n",
       " 769,\n",
       " 770,\n",
       " 771,\n",
       " 772,\n",
       " 773,\n",
       " 774,\n",
       " 775,\n",
       " 776,\n",
       " 777,\n",
       " 778,\n",
       " 779,\n",
       " 780,\n",
       " 781,\n",
       " 782,\n",
       " 783,\n",
       " 784,\n",
       " 785,\n",
       " 786,\n",
       " 787,\n",
       " 788,\n",
       " 789,\n",
       " 790,\n",
       " 791,\n",
       " 792,\n",
       " 793,\n",
       " 794,\n",
       " 795,\n",
       " 796,\n",
       " 797,\n",
       " 798,\n",
       " 799,\n",
       " 800,\n",
       " 801,\n",
       " 802,\n",
       " 803,\n",
       " 804,\n",
       " 805,\n",
       " 806,\n",
       " 807,\n",
       " 808,\n",
       " 809,\n",
       " 810,\n",
       " 811,\n",
       " 812,\n",
       " 813,\n",
       " 814,\n",
       " 815,\n",
       " 816,\n",
       " 817,\n",
       " 818,\n",
       " 819,\n",
       " 820,\n",
       " 821,\n",
       " 822,\n",
       " 823,\n",
       " 824,\n",
       " 825,\n",
       " 826,\n",
       " 827,\n",
       " 828,\n",
       " 829,\n",
       " 830,\n",
       " 831,\n",
       " 832,\n",
       " 833,\n",
       " 834,\n",
       " 835,\n",
       " 836,\n",
       " 837,\n",
       " 838,\n",
       " 839,\n",
       " 840,\n",
       " 841,\n",
       " 842,\n",
       " 843,\n",
       " 844,\n",
       " 845,\n",
       " 846,\n",
       " 847,\n",
       " 848,\n",
       " 849,\n",
       " 850,\n",
       " 851,\n",
       " 852,\n",
       " 853,\n",
       " 854,\n",
       " 855,\n",
       " 856,\n",
       " 857,\n",
       " 858,\n",
       " 859,\n",
       " 860,\n",
       " 861,\n",
       " 862,\n",
       " 863,\n",
       " 864,\n",
       " 865,\n",
       " 866,\n",
       " 867,\n",
       " 868,\n",
       " 869,\n",
       " 870,\n",
       " 871,\n",
       " 872,\n",
       " 873,\n",
       " 874,\n",
       " 875,\n",
       " 876,\n",
       " 877,\n",
       " 878,\n",
       " 879,\n",
       " 880,\n",
       " 881,\n",
       " 882,\n",
       " 883,\n",
       " 884,\n",
       " 885,\n",
       " 886,\n",
       " 887,\n",
       " 888,\n",
       " 889,\n",
       " 890,\n",
       " 891,\n",
       " 892,\n",
       " 893,\n",
       " 894,\n",
       " 895,\n",
       " 896,\n",
       " 897,\n",
       " 898,\n",
       " 899,\n",
       " 900,\n",
       " 901,\n",
       " 902,\n",
       " 903,\n",
       " 904,\n",
       " 905,\n",
       " 906,\n",
       " 907,\n",
       " 908,\n",
       " 909,\n",
       " 910,\n",
       " 911,\n",
       " 912,\n",
       " 913,\n",
       " 914,\n",
       " 915,\n",
       " 916,\n",
       " 917,\n",
       " 918,\n",
       " 919,\n",
       " 920,\n",
       " 921,\n",
       " 922,\n",
       " 923,\n",
       " 924,\n",
       " 925,\n",
       " 926,\n",
       " 927,\n",
       " 928,\n",
       " 929,\n",
       " 930,\n",
       " 931,\n",
       " 932,\n",
       " 933,\n",
       " 934,\n",
       " 935,\n",
       " 936,\n",
       " 937,\n",
       " 938,\n",
       " 939,\n",
       " 940,\n",
       " 941,\n",
       " 942,\n",
       " 943,\n",
       " 944,\n",
       " 945,\n",
       " 946,\n",
       " 947,\n",
       " 948,\n",
       " 949,\n",
       " 950,\n",
       " 951,\n",
       " 952,\n",
       " 953,\n",
       " 954,\n",
       " 955,\n",
       " 956,\n",
       " 957,\n",
       " 958,\n",
       " 959,\n",
       " 960,\n",
       " 961,\n",
       " 962,\n",
       " 963,\n",
       " 964,\n",
       " 965,\n",
       " 966,\n",
       " 967,\n",
       " 968,\n",
       " 969,\n",
       " 970,\n",
       " 971,\n",
       " 972,\n",
       " 973,\n",
       " 974,\n",
       " 975,\n",
       " 976,\n",
       " 977,\n",
       " 978,\n",
       " 979,\n",
       " 980,\n",
       " 981,\n",
       " 982,\n",
       " 983,\n",
       " 984,\n",
       " 985,\n",
       " 986,\n",
       " 987,\n",
       " 988,\n",
       " 989,\n",
       " 990,\n",
       " 991,\n",
       " 992,\n",
       " 993,\n",
       " 994,\n",
       " 995,\n",
       " 996,\n",
       " 997,\n",
       " 998,\n",
       " 999,\n",
       " 1000,\n",
       " 1001,\n",
       " 1002,\n",
       " 1003,\n",
       " 1004,\n",
       " 1005,\n",
       " 1006,\n",
       " 1007,\n",
       " 1008,\n",
       " 1009,\n",
       " 1010,\n",
       " 1011,\n",
       " 1012,\n",
       " 1013,\n",
       " 1014,\n",
       " 1015,\n",
       " 1016,\n",
       " 1017,\n",
       " 1018,\n",
       " 1019,\n",
       " 1020,\n",
       " 1021,\n",
       " 1022,\n",
       " 1023,\n",
       " 1024,\n",
       " 1025,\n",
       " 1026,\n",
       " 1027,\n",
       " 1028,\n",
       " 1029,\n",
       " 1030,\n",
       " 1031,\n",
       " 1032,\n",
       " 1033,\n",
       " 1034,\n",
       " 1035,\n",
       " 1036,\n",
       " 1037,\n",
       " 1038,\n",
       " 1039,\n",
       " 1040,\n",
       " 1041,\n",
       " 1042,\n",
       " 1043,\n",
       " 1044,\n",
       " 1045,\n",
       " 1046,\n",
       " 1047,\n",
       " 1048,\n",
       " 1049,\n",
       " 1050,\n",
       " 1051,\n",
       " 1052,\n",
       " 1053,\n",
       " 1054,\n",
       " 1055,\n",
       " 1056,\n",
       " 1057,\n",
       " 1058,\n",
       " 1059,\n",
       " 1060,\n",
       " 1061,\n",
       " 1062,\n",
       " 1063,\n",
       " 1064,\n",
       " 1065,\n",
       " 1066,\n",
       " 1067,\n",
       " 1068,\n",
       " 1069,\n",
       " 1070,\n",
       " 1071,\n",
       " 1072,\n",
       " 1073,\n",
       " 1074,\n",
       " 1075,\n",
       " 1076,\n",
       " 1077,\n",
       " 1078,\n",
       " 1079,\n",
       " 1080,\n",
       " 1081,\n",
       " 1082,\n",
       " 1083,\n",
       " 1084,\n",
       " 1085,\n",
       " 1086,\n",
       " 1087,\n",
       " 1088,\n",
       " 1089,\n",
       " 1090,\n",
       " 1091,\n",
       " 1092,\n",
       " 1093,\n",
       " 1094,\n",
       " 1095,\n",
       " 1096,\n",
       " 1097,\n",
       " 1098,\n",
       " 1099,\n",
       " 1100,\n",
       " 1101,\n",
       " 1102,\n",
       " 1103,\n",
       " 1104,\n",
       " 1105,\n",
       " 1106,\n",
       " 1107,\n",
       " 1108,\n",
       " 1109,\n",
       " 1110,\n",
       " 1111,\n",
       " 1112,\n",
       " 1113,\n",
       " 1114,\n",
       " 1115,\n",
       " 1116,\n",
       " 1117,\n",
       " 1118,\n",
       " 1119,\n",
       " 1120,\n",
       " 1121,\n",
       " 1122,\n",
       " 1123,\n",
       " 1124,\n",
       " 1125,\n",
       " 1126,\n",
       " 1127,\n",
       " 1128,\n",
       " 1129,\n",
       " 1130,\n",
       " 1131,\n",
       " 1132,\n",
       " 1133,\n",
       " 1134,\n",
       " 1135,\n",
       " 1136,\n",
       " 1137,\n",
       " 1138,\n",
       " 1139,\n",
       " 1140,\n",
       " 1141,\n",
       " 1142,\n",
       " 1143,\n",
       " 1144,\n",
       " 1145,\n",
       " 1146,\n",
       " 1147,\n",
       " 1148,\n",
       " 1149,\n",
       " 1150,\n",
       " 1151,\n",
       " 1152,\n",
       " 1153,\n",
       " 1154,\n",
       " 1155,\n",
       " 1156,\n",
       " 1157,\n",
       " 1158,\n",
       " 1159,\n",
       " 1160,\n",
       " 1161,\n",
       " 1162,\n",
       " 1163,\n",
       " 1164,\n",
       " 1165,\n",
       " 1166,\n",
       " 1167,\n",
       " 1168,\n",
       " 1169,\n",
       " 1170,\n",
       " 1171,\n",
       " 1172,\n",
       " 1173,\n",
       " 1174,\n",
       " 1175,\n",
       " 1176,\n",
       " 1177,\n",
       " 1178,\n",
       " 1179,\n",
       " 1180,\n",
       " 1181,\n",
       " 1182,\n",
       " 1183,\n",
       " 1184,\n",
       " 1185,\n",
       " 1186,\n",
       " 1187,\n",
       " 1188,\n",
       " 1189,\n",
       " 1190,\n",
       " 1191,\n",
       " 1192,\n",
       " 1193,\n",
       " 1194,\n",
       " 1195,\n",
       " 1196,\n",
       " 1197,\n",
       " 1198,\n",
       " 1199,\n",
       " 1200,\n",
       " 1201,\n",
       " 1202,\n",
       " 1203,\n",
       " 1204,\n",
       " 1205,\n",
       " 1206,\n",
       " 1207,\n",
       " 1208,\n",
       " 1209,\n",
       " 1210,\n",
       " 1211,\n",
       " 1212,\n",
       " 1213,\n",
       " 1214,\n",
       " 1215,\n",
       " 1216,\n",
       " 1217,\n",
       " 1218,\n",
       " 1219,\n",
       " 1220,\n",
       " 1221,\n",
       " 1222,\n",
       " 1223,\n",
       " 1224,\n",
       " 1225,\n",
       " 1226,\n",
       " 1227,\n",
       " 1228,\n",
       " 1229,\n",
       " 1230,\n",
       " 1231,\n",
       " 1232,\n",
       " 1233,\n",
       " 1234,\n",
       " 1235,\n",
       " 1236,\n",
       " 1237,\n",
       " 1238,\n",
       " 1239,\n",
       " 1240,\n",
       " 1241,\n",
       " 1242,\n",
       " 1243,\n",
       " 1244,\n",
       " 1245,\n",
       " 1246,\n",
       " 1247,\n",
       " 1248,\n",
       " 1249,\n",
       " 1250,\n",
       " 1251,\n",
       " 1252,\n",
       " 1253,\n",
       " 1254,\n",
       " 1255,\n",
       " 1256,\n",
       " 1257,\n",
       " 1258,\n",
       " 1259,\n",
       " 1260,\n",
       " 1261,\n",
       " 1262,\n",
       " 1263,\n",
       " 1264,\n",
       " 1265,\n",
       " 1266,\n",
       " 1267,\n",
       " 1268,\n",
       " 1269,\n",
       " 1270,\n",
       " 1271,\n",
       " 1272,\n",
       " 1273,\n",
       " 1274,\n",
       " 1275,\n",
       " 1276,\n",
       " 1277,\n",
       " 1278,\n",
       " 1279,\n",
       " 1280,\n",
       " 1281,\n",
       " 1282,\n",
       " 1283,\n",
       " 1284,\n",
       " 1285,\n",
       " 1286,\n",
       " 1287,\n",
       " 1288,\n",
       " 1289,\n",
       " 1290,\n",
       " 1291,\n",
       " 1292,\n",
       " 1293,\n",
       " 1294,\n",
       " 1295,\n",
       " 1296,\n",
       " 1297,\n",
       " 1298,\n",
       " 1299,\n",
       " 1300,\n",
       " 1301,\n",
       " 1302,\n",
       " 1303,\n",
       " 1304,\n",
       " 1305,\n",
       " 1306,\n",
       " 1307,\n",
       " 1308,\n",
       " 1309,\n",
       " 1310,\n",
       " 1311,\n",
       " 1312,\n",
       " 1313,\n",
       " 1314,\n",
       " 1315,\n",
       " 1316,\n",
       " 1317,\n",
       " 1318,\n",
       " 1319,\n",
       " 1320,\n",
       " 1321,\n",
       " 1322,\n",
       " 1323,\n",
       " 1324,\n",
       " 1325,\n",
       " 1326,\n",
       " 1327,\n",
       " 1328,\n",
       " 1329,\n",
       " 1330,\n",
       " 1331,\n",
       " 1332,\n",
       " 1333,\n",
       " 1334,\n",
       " 1335,\n",
       " 1336,\n",
       " 1337,\n",
       " 1338,\n",
       " 1339,\n",
       " 1340,\n",
       " 1341,\n",
       " 1342,\n",
       " 1343,\n",
       " 1344,\n",
       " 1345,\n",
       " 1346,\n",
       " 1347,\n",
       " 1348,\n",
       " 1349,\n",
       " 1350,\n",
       " 1351,\n",
       " 1352,\n",
       " 1353,\n",
       " 1354,\n",
       " 1355,\n",
       " 1356,\n",
       " 1357,\n",
       " 1358,\n",
       " 1359,\n",
       " 1360,\n",
       " 1361,\n",
       " 1362,\n",
       " 1363,\n",
       " 1364,\n",
       " 1365,\n",
       " 1366,\n",
       " 1367,\n",
       " 1368,\n",
       " 1369,\n",
       " 1370,\n",
       " 1371,\n",
       " 1372,\n",
       " 1373,\n",
       " 1374,\n",
       " 1375,\n",
       " 1376,\n",
       " 1377,\n",
       " 1378,\n",
       " 1379,\n",
       " 1380,\n",
       " 1381,\n",
       " 1382,\n",
       " 1383,\n",
       " 1384,\n",
       " 1385,\n",
       " 1386,\n",
       " 1387,\n",
       " 1388,\n",
       " 1389,\n",
       " 1390,\n",
       " 1391,\n",
       " 1392,\n",
       " 1393,\n",
       " 1394,\n",
       " 1395,\n",
       " 1396,\n",
       " 1397,\n",
       " 1398,\n",
       " 1399,\n",
       " 1400,\n",
       " 1401,\n",
       " 1402,\n",
       " 1403,\n",
       " 1404,\n",
       " 1405,\n",
       " 1406,\n",
       " 1407,\n",
       " 1408,\n",
       " 1409,\n",
       " 1410,\n",
       " 1411,\n",
       " 1412,\n",
       " 1413,\n",
       " 1414,\n",
       " 1415,\n",
       " 1416,\n",
       " 1417,\n",
       " 1418,\n",
       " 1419,\n",
       " 1420,\n",
       " 1421,\n",
       " 1422,\n",
       " 1423,\n",
       " 1424,\n",
       " 1425,\n",
       " 1426,\n",
       " 1427,\n",
       " 1428,\n",
       " 1429,\n",
       " 1430,\n",
       " 1431,\n",
       " 1432,\n",
       " 1433,\n",
       " 1434,\n",
       " 1435,\n",
       " 1436,\n",
       " 1437,\n",
       " 1438,\n",
       " 1439,\n",
       " 1440,\n",
       " 1441,\n",
       " 1442,\n",
       " 1443,\n",
       " 1444,\n",
       " 1445,\n",
       " 1446,\n",
       " 1447,\n",
       " 1448,\n",
       " 1449,\n",
       " 1450,\n",
       " 1451,\n",
       " 1452,\n",
       " 1453,\n",
       " 1454,\n",
       " 1455,\n",
       " 1456,\n",
       " 1457,\n",
       " 1458,\n",
       " 1459,\n",
       " 1460,\n",
       " 1461,\n",
       " 1462,\n",
       " 1463,\n",
       " 1464,\n",
       " 1465,\n",
       " 1466,\n",
       " 1467,\n",
       " 1468,\n",
       " 1469,\n",
       " 1470,\n",
       " 1471,\n",
       " 1472,\n",
       " 1473,\n",
       " 1474,\n",
       " 1475,\n",
       " 1476,\n",
       " 1477,\n",
       " 1478,\n",
       " 1479,\n",
       " 1480,\n",
       " 1481,\n",
       " 1482,\n",
       " 1483,\n",
       " 1484,\n",
       " 1485,\n",
       " 1486,\n",
       " 1487,\n",
       " 1488,\n",
       " 1489,\n",
       " 1490,\n",
       " 1491,\n",
       " 1492,\n",
       " 1493,\n",
       " 1494,\n",
       " 1495,\n",
       " 1496,\n",
       " 1497,\n",
       " 1498,\n",
       " 1499,\n",
       " 1500,\n",
       " 1501,\n",
       " 1502,\n",
       " 1503,\n",
       " 1504,\n",
       " 1505,\n",
       " 1506,\n",
       " 1507,\n",
       " 1508,\n",
       " 1509,\n",
       " 1510,\n",
       " 1511,\n",
       " 1512,\n",
       " 1513,\n",
       " 1514,\n",
       " 1515,\n",
       " 1516,\n",
       " 1517,\n",
       " 1518,\n",
       " 1519,\n",
       " 1520,\n",
       " 1521,\n",
       " 1522,\n",
       " 1523,\n",
       " 1524,\n",
       " 1525,\n",
       " 1526,\n",
       " 1527,\n",
       " 1528,\n",
       " 1529,\n",
       " 1530,\n",
       " 1531,\n",
       " 1532,\n",
       " 1533,\n",
       " 1534,\n",
       " 1535,\n",
       " 1536,\n",
       " 1537,\n",
       " 1538,\n",
       " 1539,\n",
       " 1540,\n",
       " 1541,\n",
       " 1542,\n",
       " 1543,\n",
       " 1544,\n",
       " 1545,\n",
       " 1546,\n",
       " 1547,\n",
       " 1548,\n",
       " 1549,\n",
       " 1550,\n",
       " 1551,\n",
       " 1552,\n",
       " 1553,\n",
       " 1554,\n",
       " 1555,\n",
       " 1556,\n",
       " 1557,\n",
       " 1558,\n",
       " 1559,\n",
       " 1560,\n",
       " 1561,\n",
       " 1562,\n",
       " 1563,\n",
       " 1564,\n",
       " 1565,\n",
       " 1566,\n",
       " 1567,\n",
       " 1568,\n",
       " 1569,\n",
       " 1570,\n",
       " 1571,\n",
       " 1572,\n",
       " 1573,\n",
       " 1574,\n",
       " 1575,\n",
       " 1576,\n",
       " 1577,\n",
       " 1578,\n",
       " 1579,\n",
       " 1580,\n",
       " 1581,\n",
       " 1582,\n",
       " 1583,\n",
       " 1584,\n",
       " 1585,\n",
       " 1586,\n",
       " 1587,\n",
       " 1588,\n",
       " 1589,\n",
       " 1590,\n",
       " 1591,\n",
       " 1592,\n",
       " 1593,\n",
       " 1594,\n",
       " 1595,\n",
       " 1596,\n",
       " 1597,\n",
       " 1598,\n",
       " 1599,\n",
       " 1600,\n",
       " 1601,\n",
       " 1602,\n",
       " 1603,\n",
       " 1604,\n",
       " 1605,\n",
       " 1606,\n",
       " 1607,\n",
       " 1608,\n",
       " 1609,\n",
       " 1610,\n",
       " 1611,\n",
       " 1612,\n",
       " 1613,\n",
       " 1614,\n",
       " 1615,\n",
       " 1616,\n",
       " 1617,\n",
       " 1618,\n",
       " 1619,\n",
       " 1620,\n",
       " 1621,\n",
       " 1622,\n",
       " 1623,\n",
       " 1624,\n",
       " 1625,\n",
       " 1626,\n",
       " 1627,\n",
       " 1628,\n",
       " 1629,\n",
       " 1630,\n",
       " 1631,\n",
       " 1632,\n",
       " 1633,\n",
       " 1634,\n",
       " 1635,\n",
       " 1636,\n",
       " 1637,\n",
       " 1638,\n",
       " 1639,\n",
       " 1640,\n",
       " 1641,\n",
       " 1642,\n",
       " 1643,\n",
       " 1644,\n",
       " 1645,\n",
       " 1646,\n",
       " 1647,\n",
       " 1648,\n",
       " 1649,\n",
       " 1650,\n",
       " 1651,\n",
       " 1652,\n",
       " 1653,\n",
       " 1654,\n",
       " 1655,\n",
       " 1656,\n",
       " 1657,\n",
       " 1658,\n",
       " 1659,\n",
       " 1660,\n",
       " 1661,\n",
       " 1662,\n",
       " 1663,\n",
       " 1664,\n",
       " 1665,\n",
       " 1666,\n",
       " 1667,\n",
       " 1668,\n",
       " 1669,\n",
       " 1670,\n",
       " 1671,\n",
       " 1672,\n",
       " 1673,\n",
       " 1674,\n",
       " 1675,\n",
       " 1676,\n",
       " 1677,\n",
       " 1678,\n",
       " 1679,\n",
       " 1680,\n",
       " 1681,\n",
       " 1682,\n",
       " 1683,\n",
       " 1684,\n",
       " 1685,\n",
       " 1686,\n",
       " 1687,\n",
       " 1688,\n",
       " 1689,\n",
       " 1690,\n",
       " 1691,\n",
       " 1692,\n",
       " 1693,\n",
       " 1694,\n",
       " 1695,\n",
       " 1696,\n",
       " 1697,\n",
       " 1698,\n",
       " 1699,\n",
       " 1700,\n",
       " 1701,\n",
       " 1702,\n",
       " 1703,\n",
       " 1704,\n",
       " 1705,\n",
       " 1706,\n",
       " 1707,\n",
       " 1708,\n",
       " 1709,\n",
       " 1710,\n",
       " 1711,\n",
       " 1712,\n",
       " 1713,\n",
       " 1714,\n",
       " 1715,\n",
       " 1716,\n",
       " 1717,\n",
       " 1718,\n",
       " 1719,\n",
       " 1720,\n",
       " 1721,\n",
       " 1722,\n",
       " 1723,\n",
       " 1724,\n",
       " 1725,\n",
       " 1726,\n",
       " 1727,\n",
       " 1728,\n",
       " 1729,\n",
       " 1730,\n",
       " 1731,\n",
       " 1732,\n",
       " 1733,\n",
       " 1734,\n",
       " 1735,\n",
       " 1736,\n",
       " 1737,\n",
       " ...]"
      ]
     },
     "execution_count": 1269,
     "metadata": {},
     "output_type": "execute_result"
    }
   ],
   "source": [
    "spike2_15"
   ]
  },
  {
   "cell_type": "code",
   "execution_count": 1270,
   "id": "3cd0e1f0",
   "metadata": {},
   "outputs": [
    {
     "data": {
      "image/png": "[encoded data removed]",
      "text/plain": [
       "<Figure size 6000x500 with 1 Axes>"
      ]
     },
     "metadata": {},
     "output_type": "display_data"
    }
   ],
   "source": [
    "import tensorflow as tf\n",
    "import numpy as np\n",
    "import matplotlib.pyplot as plt1\n",
    "\n",
    "plt.figure(figsize=(60,5))\n",
    "\n",
    "plt1.eventplot(spike2_15, \n",
    "              orientation = 'horizontal',\n",
    "              linelengths = 0.01,\n",
    "              lineoffsets=[.02],\n",
    "              lw=0.2\n",
    "              )\n",
    "\n",
    "plt1.eventplot(spike_15, \n",
    "              orientation = 'horizontal',\n",
    "              linelengths = 0.01,\n",
    "              lineoffsets=[0],\n",
    "              lw=0.2, \n",
    "              )\n",
    "\n",
    "plt1.axhline(y=0.02, color='gray', linestyle='-')\n",
    "plt1.axhline(y=0, color='gray', linestyle='-')\n",
    "\n",
    "labels=['GT', 'PD']\n",
    "plt1.yticks(np.arange(0, 0,5))  # Set label locations.\n",
    "plt1.yticks([0, .02], labels=['GT', 'PR'], fontsize=34)  # Set text labels and properties.\n",
    "plt1.xticks( fontsize=34)  # Set text labels and properties.\n",
    "\n",
    "plt.grid(False)\n",
    "\n",
    "\n",
    "plt1.show()"
   ]
  },
  {
   "cell_type": "code",
   "execution_count": 1271,
   "id": "5753efb7",
   "metadata": {},
   "outputs": [],
   "source": [
    "#end of paitent_15"
   ]
  },
  {
   "cell_type": "code",
   "execution_count": null,
   "id": "4f9766fd",
   "metadata": {},
   "outputs": [],
   "source": []
  },
  {
   "cell_type": "code",
   "execution_count": null,
   "id": "979f007d",
   "metadata": {},
   "outputs": [],
   "source": []
  },
  {
   "cell_type": "code",
   "execution_count": null,
   "id": "f697860c",
   "metadata": {},
   "outputs": [],
   "source": []
  },
  {
   "cell_type": "code",
   "execution_count": 1116,
   "id": "4db7557d",
   "metadata": {},
   "outputs": [],
   "source": [
    "spike=actual[:30].numpy()\n",
    "spike2=predicted[:30].numpy()"
   ]
  },
  {
   "cell_type": "code",
   "execution_count": 1117,
   "id": "82800209",
   "metadata": {},
   "outputs": [],
   "source": [
    "spiky=tf.where(spike).numpy().tolist()\n",
    "spiky2=tf.where(spike2).numpy().tolist()"
   ]
  },
  {
   "cell_type": "code",
   "execution_count": 1118,
   "id": "364055e6",
   "metadata": {},
   "outputs": [],
   "source": [
    "flat_list = [item for sublist in spiky for item in sublist]\n",
    "spiky =flat_list\n",
    "flat_list2 = [item for sublist in spiky2 for item in sublist]\n",
    "spiky2 =flat_list2"
   ]
  },
  {
   "cell_type": "code",
   "execution_count": 1119,
   "id": "9ebfee2d",
   "metadata": {},
   "outputs": [
    {
     "name": "stdout",
     "output_type": "stream",
     "text": [
      "2589/2589 [==============================] - 136s 53ms/step\n"
     ]
    }
   ],
   "source": [
    "predictedTrain = model.predict(x_test, batch_size=batch_size)\n",
    "\n",
    "predictedTrain = tf.concat(predictedTrain, axis=0)\n",
    "predictedTrain = tf.argmax(predictedTrain, axis=1)"
   ]
  },
  {
   "cell_type": "code",
   "execution_count": 1120,
   "id": "881c741c",
   "metadata": {},
   "outputs": [
    {
     "data": {
      "image/png": "[encoded data removed]",
      "text/plain": [
       "<Figure size 1200x1200 with 1 Axes>"
      ]
     },
     "metadata": {},
     "output_type": "display_data"
    }
   ],
   "source": [
    "import tensorflow as tf\n",
    "import numpy as np\n",
    "import matplotlib.pyplot as plt1\n",
    "\n",
    "plt1.eventplot(spiky2, \n",
    "              orientation = 'horizontal',\n",
    "              linelengths = 0.01,\n",
    "              lineoffsets=[.02],\n",
    "              lw=1\n",
    "              )\n",
    "\n",
    "plt1.eventplot(spiky, \n",
    "              orientation = 'horizontal',\n",
    "              linelengths = 0.01, \n",
    "              lineoffsets=[0],\n",
    "              lw=1\n",
    "              )\n",
    "plt1.axhline(y=0.02, color='gray', linestyle='-')\n",
    "plt1.axhline(y=0, color='gray', linestyle='-')\n",
    "labels=['GT', 'PD']\n",
    "plt1.yticks(np.arange(0, 0,5))  # Set label locations.\n",
    "plt1.yticks([0, .02], labels=['GT', 'PR'])  # Set text labels and properties.\n",
    "plt.grid(False)\n",
    "\n",
    "\n",
    "plt1.show()"
   ]
  },
  {
   "cell_type": "code",
   "execution_count": 1121,
   "id": "e07ccb33",
   "metadata": {},
   "outputs": [],
   "source": [
    "actualtrain = tf.argmax(y_train, axis=1)"
   ]
  },
  {
   "cell_type": "code",
   "execution_count": 1122,
   "id": "a4daa4b9",
   "metadata": {},
   "outputs": [
    {
     "data": {
      "text/plain": [
       "'2023-07-14 06:08:06'"
      ]
     },
     "execution_count": 1122,
     "metadata": {},
     "output_type": "execute_result"
    }
   ],
   "source": [
    "now = datetime.now()\n",
    "current_end_time = now.strftime(\"%Y-%m-%d %H:%M:%S\")\n",
    "current_end_time"
   ]
  },
  {
   "cell_type": "code",
   "execution_count": null,
   "id": "816f11cb",
   "metadata": {},
   "outputs": [],
   "source": []
  },
  {
   "cell_type": "code",
   "execution_count": null,
   "id": "f06e59a4",
   "metadata": {},
   "outputs": [],
   "source": []
  },
  {
   "cell_type": "code",
   "execution_count": null,
   "id": "4f7647bf",
   "metadata": {},
   "outputs": [],
   "source": []
  },
  {
   "cell_type": "code",
   "execution_count": null,
   "id": "046149ff",
   "metadata": {},
   "outputs": [],
   "source": []
  },
  {
   "cell_type": "code",
   "execution_count": null,
   "id": "74e10e9f",
   "metadata": {},
   "outputs": [],
   "source": []
  },
  {
   "cell_type": "code",
   "execution_count": null,
   "id": "d1337583",
   "metadata": {},
   "outputs": [],
   "source": []
  },
  {
   "cell_type": "code",
   "execution_count": null,
   "id": "47d151a9",
   "metadata": {},
   "outputs": [],
   "source": []
  },
  {
   "cell_type": "code",
   "execution_count": null,
   "id": "e2cf9382",
   "metadata": {},
   "outputs": [],
   "source": []
  },
  {
   "cell_type": "code",
   "execution_count": null,
   "id": "4bbe81d7",
   "metadata": {},
   "outputs": [],
   "source": []
  },
  {
   "cell_type": "code",
   "execution_count": null,
   "id": "d8bf9713",
   "metadata": {},
   "outputs": [],
   "source": []
  },
  {
   "cell_type": "code",
   "execution_count": null,
   "id": "aee93da8",
   "metadata": {},
   "outputs": [],
   "source": []
  },
  {
   "cell_type": "code",
   "execution_count": null,
   "id": "1b151548",
   "metadata": {},
   "outputs": [],
   "source": []
  },
  {
   "cell_type": "code",
   "execution_count": null,
   "id": "1dcf9ac9",
   "metadata": {},
   "outputs": [],
   "source": []
  },
  {
   "cell_type": "code",
   "execution_count": null,
   "id": "5e27967c",
   "metadata": {},
   "outputs": [],
   "source": []
  },
  {
   "cell_type": "code",
   "execution_count": null,
   "id": "eb913cf0",
   "metadata": {},
   "outputs": [],
   "source": []
  },
  {
   "cell_type": "code",
   "execution_count": null,
   "id": "21fbd6be",
   "metadata": {},
   "outputs": [],
   "source": []
  },
  {
   "cell_type": "code",
   "execution_count": null,
   "id": "ed13b50f",
   "metadata": {},
   "outputs": [],
   "source": []
  },
  {
   "cell_type": "code",
   "execution_count": null,
   "id": "1c99f119",
   "metadata": {},
   "outputs": [],
   "source": []
  },
  {
   "cell_type": "code",
   "execution_count": null,
   "id": "dd9b1d67",
   "metadata": {},
   "outputs": [],
   "source": []
  },
  {
   "cell_type": "code",
   "execution_count": null,
   "id": "55dc2b46",
   "metadata": {},
   "outputs": [],
   "source": []
  },
  {
   "cell_type": "code",
   "execution_count": null,
   "id": "04b24985",
   "metadata": {},
   "outputs": [],
   "source": []
  },
  {
   "cell_type": "code",
   "execution_count": null,
   "id": "f600143c",
   "metadata": {},
   "outputs": [],
   "source": []
  },
  {
   "cell_type": "code",
   "execution_count": null,
   "id": "5ac93904",
   "metadata": {},
   "outputs": [],
   "source": []
  },
  {
   "cell_type": "code",
   "execution_count": null,
   "id": "f7999512",
   "metadata": {},
   "outputs": [],
   "source": []
  },
  {
   "cell_type": "code",
   "execution_count": null,
   "id": "87511d5a",
   "metadata": {},
   "outputs": [],
   "source": []
  },
  {
   "cell_type": "code",
   "execution_count": null,
   "id": "ec3517b5",
   "metadata": {},
   "outputs": [],
   "source": []
  },
  {
   "cell_type": "code",
   "execution_count": null,
   "id": "2daae447",
   "metadata": {},
   "outputs": [],
   "source": []
  },
  {
   "cell_type": "code",
   "execution_count": null,
   "id": "2c055c49",
   "metadata": {},
   "outputs": [],
   "source": []
  },
  {
   "cell_type": "code",
   "execution_count": null,
   "id": "71df849b",
   "metadata": {},
   "outputs": [],
   "source": []
  },
  {
   "cell_type": "code",
   "execution_count": null,
   "id": "e7c5bf56",
   "metadata": {},
   "outputs": [],
   "source": []
  },
  {
   "cell_type": "code",
   "execution_count": null,
   "id": "5e03159f",
   "metadata": {},
   "outputs": [],
   "source": []
  },
  {
   "cell_type": "code",
   "execution_count": null,
   "id": "64c36dd6",
   "metadata": {},
   "outputs": [],
   "source": []
  },
  {
   "cell_type": "code",
   "execution_count": null,
   "id": "84e88413",
   "metadata": {},
   "outputs": [],
   "source": []
  },
  {
   "cell_type": "code",
   "execution_count": null,
   "id": "c56180c1",
   "metadata": {},
   "outputs": [],
   "source": []
  },
  {
   "cell_type": "code",
   "execution_count": null,
   "id": "bf1d5e99",
   "metadata": {},
   "outputs": [],
   "source": []
  },
  {
   "cell_type": "code",
   "execution_count": null,
   "id": "39b670dd",
   "metadata": {},
   "outputs": [],
   "source": []
  },
  {
   "cell_type": "code",
   "execution_count": null,
   "id": "30ce1f4c",
   "metadata": {},
   "outputs": [],
   "source": []
  },
  {
   "cell_type": "code",
   "execution_count": null,
   "id": "0b3ec645",
   "metadata": {},
   "outputs": [],
   "source": []
  },
  {
   "cell_type": "code",
   "execution_count": null,
   "id": "3b92fd21",
   "metadata": {},
   "outputs": [],
   "source": []
  },
  {
   "cell_type": "code",
   "execution_count": null,
   "id": "400cbf85",
   "metadata": {},
   "outputs": [],
   "source": []
  }
 ],
 "metadata": {
  "kernelspec": {
   "display_name": "tensorflow",
   "language": "python",
   "name": "tensorflow"
  },
  "language_info": {
   "codemirror_mode": {
    "name": "ipython",
    "version": 3
   },
   "file_extension": ".py",
   "mimetype": "text/x-python",
   "name": "python",
   "nbconvert_exporter": "python",
   "pygments_lexer": "ipython3",
   "version": "3.9.13"
  }
 },
 "nbformat": 4,
 "nbformat_minor": 5
}
